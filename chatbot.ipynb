{
  "nbformat": 4,
  "nbformat_minor": 0,
  "metadata": {
    "colab": {
      "name": "chatbot.ipynb",
      "provenance": [],
      "collapsed_sections": [],
      "toc_visible": true,
      "machine_shape": "hm",
      "authorship_tag": "ABX9TyNnYNArcBij1T29X02kBPiO",
      "include_colab_link": true
    },
    "kernelspec": {
      "name": "python3",
      "display_name": "Python 3"
    },
    "language_info": {
      "name": "python"
    },
    "accelerator": "GPU",
    "widgets": {
      "application/vnd.jupyter.widget-state+json": {
        "62987d2ce5284b849384182f616a5e2e": {
          "model_module": "@jupyter-widgets/controls",
          "model_name": "HBoxModel",
          "model_module_version": "1.5.0",
          "state": {
            "_view_name": "HBoxView",
            "_dom_classes": [],
            "_model_name": "HBoxModel",
            "_view_module": "@jupyter-widgets/controls",
            "_model_module_version": "1.5.0",
            "_view_count": null,
            "_view_module_version": "1.5.0",
            "box_style": "",
            "layout": "IPY_MODEL_e5bf0da088d5410eb922c470d5dab395",
            "_model_module": "@jupyter-widgets/controls",
            "children": [
              "IPY_MODEL_f9b757c3b7214529a7cba142e03b8916",
              "IPY_MODEL_a7f3c87c8b044b98adf4dfffaef07258",
              "IPY_MODEL_0fd16d263ae74598adedc5789a2ac294"
            ]
          }
        },
        "e5bf0da088d5410eb922c470d5dab395": {
          "model_module": "@jupyter-widgets/base",
          "model_name": "LayoutModel",
          "model_module_version": "1.2.0",
          "state": {
            "_view_name": "LayoutView",
            "grid_template_rows": null,
            "right": null,
            "justify_content": null,
            "_view_module": "@jupyter-widgets/base",
            "overflow": null,
            "_model_module_version": "1.2.0",
            "_view_count": null,
            "flex_flow": null,
            "width": null,
            "min_width": null,
            "border": null,
            "align_items": null,
            "bottom": null,
            "_model_module": "@jupyter-widgets/base",
            "top": null,
            "grid_column": null,
            "overflow_y": null,
            "overflow_x": null,
            "grid_auto_flow": null,
            "grid_area": null,
            "grid_template_columns": null,
            "flex": null,
            "_model_name": "LayoutModel",
            "justify_items": null,
            "grid_row": null,
            "max_height": null,
            "align_content": null,
            "visibility": null,
            "align_self": null,
            "height": null,
            "min_height": null,
            "padding": null,
            "grid_auto_rows": null,
            "grid_gap": null,
            "max_width": null,
            "order": null,
            "_view_module_version": "1.2.0",
            "grid_template_areas": null,
            "object_position": null,
            "object_fit": null,
            "grid_auto_columns": null,
            "margin": null,
            "display": null,
            "left": null
          }
        },
        "f9b757c3b7214529a7cba142e03b8916": {
          "model_module": "@jupyter-widgets/controls",
          "model_name": "HTMLModel",
          "model_module_version": "1.5.0",
          "state": {
            "_view_name": "HTMLView",
            "style": "IPY_MODEL_71d1548b17fa4782b14f85fdb809fe35",
            "_dom_classes": [],
            "description": "",
            "_model_name": "HTMLModel",
            "placeholder": "​",
            "_view_module": "@jupyter-widgets/controls",
            "_model_module_version": "1.5.0",
            "value": "100%",
            "_view_count": null,
            "_view_module_version": "1.5.0",
            "description_tooltip": null,
            "_model_module": "@jupyter-widgets/controls",
            "layout": "IPY_MODEL_1318653c4dbf4978a105a1aff05356c1"
          }
        },
        "a7f3c87c8b044b98adf4dfffaef07258": {
          "model_module": "@jupyter-widgets/controls",
          "model_name": "FloatProgressModel",
          "model_module_version": "1.5.0",
          "state": {
            "_view_name": "ProgressView",
            "style": "IPY_MODEL_6606db5326594804b2d46364cf0895d7",
            "_dom_classes": [],
            "description": "",
            "_model_name": "FloatProgressModel",
            "bar_style": "success",
            "max": 2808811,
            "_view_module": "@jupyter-widgets/controls",
            "_model_module_version": "1.5.0",
            "value": 2808811,
            "_view_count": null,
            "_view_module_version": "1.5.0",
            "orientation": "horizontal",
            "min": 0,
            "description_tooltip": null,
            "_model_module": "@jupyter-widgets/controls",
            "layout": "IPY_MODEL_eefc295318b7475b95a9bc00a725821d"
          }
        },
        "0fd16d263ae74598adedc5789a2ac294": {
          "model_module": "@jupyter-widgets/controls",
          "model_name": "HTMLModel",
          "model_module_version": "1.5.0",
          "state": {
            "_view_name": "HTMLView",
            "style": "IPY_MODEL_947ec20a368d4cf28acf674dae361c2f",
            "_dom_classes": [],
            "description": "",
            "_model_name": "HTMLModel",
            "placeholder": "​",
            "_view_module": "@jupyter-widgets/controls",
            "_model_module_version": "1.5.0",
            "value": " 2808811/2808811 [00:14&lt;00:00, 211598.73it/s]",
            "_view_count": null,
            "_view_module_version": "1.5.0",
            "description_tooltip": null,
            "_model_module": "@jupyter-widgets/controls",
            "layout": "IPY_MODEL_7f5be22516834d62af4131d71e067e65"
          }
        },
        "71d1548b17fa4782b14f85fdb809fe35": {
          "model_module": "@jupyter-widgets/controls",
          "model_name": "DescriptionStyleModel",
          "model_module_version": "1.5.0",
          "state": {
            "_view_name": "StyleView",
            "_model_name": "DescriptionStyleModel",
            "description_width": "",
            "_view_module": "@jupyter-widgets/base",
            "_model_module_version": "1.5.0",
            "_view_count": null,
            "_view_module_version": "1.2.0",
            "_model_module": "@jupyter-widgets/controls"
          }
        },
        "1318653c4dbf4978a105a1aff05356c1": {
          "model_module": "@jupyter-widgets/base",
          "model_name": "LayoutModel",
          "model_module_version": "1.2.0",
          "state": {
            "_view_name": "LayoutView",
            "grid_template_rows": null,
            "right": null,
            "justify_content": null,
            "_view_module": "@jupyter-widgets/base",
            "overflow": null,
            "_model_module_version": "1.2.0",
            "_view_count": null,
            "flex_flow": null,
            "width": null,
            "min_width": null,
            "border": null,
            "align_items": null,
            "bottom": null,
            "_model_module": "@jupyter-widgets/base",
            "top": null,
            "grid_column": null,
            "overflow_y": null,
            "overflow_x": null,
            "grid_auto_flow": null,
            "grid_area": null,
            "grid_template_columns": null,
            "flex": null,
            "_model_name": "LayoutModel",
            "justify_items": null,
            "grid_row": null,
            "max_height": null,
            "align_content": null,
            "visibility": null,
            "align_self": null,
            "height": null,
            "min_height": null,
            "padding": null,
            "grid_auto_rows": null,
            "grid_gap": null,
            "max_width": null,
            "order": null,
            "_view_module_version": "1.2.0",
            "grid_template_areas": null,
            "object_position": null,
            "object_fit": null,
            "grid_auto_columns": null,
            "margin": null,
            "display": null,
            "left": null
          }
        },
        "6606db5326594804b2d46364cf0895d7": {
          "model_module": "@jupyter-widgets/controls",
          "model_name": "ProgressStyleModel",
          "model_module_version": "1.5.0",
          "state": {
            "_view_name": "StyleView",
            "_model_name": "ProgressStyleModel",
            "description_width": "",
            "_view_module": "@jupyter-widgets/base",
            "_model_module_version": "1.5.0",
            "_view_count": null,
            "_view_module_version": "1.2.0",
            "bar_color": null,
            "_model_module": "@jupyter-widgets/controls"
          }
        },
        "eefc295318b7475b95a9bc00a725821d": {
          "model_module": "@jupyter-widgets/base",
          "model_name": "LayoutModel",
          "model_module_version": "1.2.0",
          "state": {
            "_view_name": "LayoutView",
            "grid_template_rows": null,
            "right": null,
            "justify_content": null,
            "_view_module": "@jupyter-widgets/base",
            "overflow": null,
            "_model_module_version": "1.2.0",
            "_view_count": null,
            "flex_flow": null,
            "width": null,
            "min_width": null,
            "border": null,
            "align_items": null,
            "bottom": null,
            "_model_module": "@jupyter-widgets/base",
            "top": null,
            "grid_column": null,
            "overflow_y": null,
            "overflow_x": null,
            "grid_auto_flow": null,
            "grid_area": null,
            "grid_template_columns": null,
            "flex": null,
            "_model_name": "LayoutModel",
            "justify_items": null,
            "grid_row": null,
            "max_height": null,
            "align_content": null,
            "visibility": null,
            "align_self": null,
            "height": null,
            "min_height": null,
            "padding": null,
            "grid_auto_rows": null,
            "grid_gap": null,
            "max_width": null,
            "order": null,
            "_view_module_version": "1.2.0",
            "grid_template_areas": null,
            "object_position": null,
            "object_fit": null,
            "grid_auto_columns": null,
            "margin": null,
            "display": null,
            "left": null
          }
        },
        "947ec20a368d4cf28acf674dae361c2f": {
          "model_module": "@jupyter-widgets/controls",
          "model_name": "DescriptionStyleModel",
          "model_module_version": "1.5.0",
          "state": {
            "_view_name": "StyleView",
            "_model_name": "DescriptionStyleModel",
            "description_width": "",
            "_view_module": "@jupyter-widgets/base",
            "_model_module_version": "1.5.0",
            "_view_count": null,
            "_view_module_version": "1.2.0",
            "_model_module": "@jupyter-widgets/controls"
          }
        },
        "7f5be22516834d62af4131d71e067e65": {
          "model_module": "@jupyter-widgets/base",
          "model_name": "LayoutModel",
          "model_module_version": "1.2.0",
          "state": {
            "_view_name": "LayoutView",
            "grid_template_rows": null,
            "right": null,
            "justify_content": null,
            "_view_module": "@jupyter-widgets/base",
            "overflow": null,
            "_model_module_version": "1.2.0",
            "_view_count": null,
            "flex_flow": null,
            "width": null,
            "min_width": null,
            "border": null,
            "align_items": null,
            "bottom": null,
            "_model_module": "@jupyter-widgets/base",
            "top": null,
            "grid_column": null,
            "overflow_y": null,
            "overflow_x": null,
            "grid_auto_flow": null,
            "grid_area": null,
            "grid_template_columns": null,
            "flex": null,
            "_model_name": "LayoutModel",
            "justify_items": null,
            "grid_row": null,
            "max_height": null,
            "align_content": null,
            "visibility": null,
            "align_self": null,
            "height": null,
            "min_height": null,
            "padding": null,
            "grid_auto_rows": null,
            "grid_gap": null,
            "max_width": null,
            "order": null,
            "_view_module_version": "1.2.0",
            "grid_template_areas": null,
            "object_position": null,
            "object_fit": null,
            "grid_auto_columns": null,
            "margin": null,
            "display": null,
            "left": null
          }
        }
      }
    }
  },
  "cells": [
    {
      "cell_type": "markdown",
      "metadata": {
        "id": "view-in-github",
        "colab_type": "text"
      },
      "source": [
        "<a href=\"https://colab.research.google.com/github/deniskapel/GenerativeChitChat/blob/master/chatbot.ipynb\" target=\"_parent\"><img src=\"https://colab.research.google.com/assets/colab-badge.svg\" alt=\"Open In Colab\"/></a>"
      ]
    },
    {
      "cell_type": "code",
      "execution_count": null,
      "metadata": {
        "id": "N3OyXPMXibW7"
      },
      "outputs": [],
      "source": [
        "%%bash\n",
        "wget \"https://raw.githubusercontent.com/deniskapel/GenerativeChitChat/master/requirements.txt\"\n",
        "pip install -r requirements.txt"
      ]
    },
    {
      "cell_type": "code",
      "source": [
        "import codecs\n",
        "import json\n",
        "import math\n",
        "import numpy as np\n",
        "import pandas as pd\n",
        "\n",
        "import random\n",
        "import json\n",
        "import torch\n",
        "from torch.utils.data import Dataset, DataLoader\n",
        "\n",
        "from tqdm.notebook import tqdm\n",
        "\n",
        "from matplotlib import pyplot as plt\n",
        "\n",
        "import youtokentome as yttm"
      ],
      "metadata": {
        "id": "HyZvLEEanEae"
      },
      "execution_count": 2,
      "outputs": []
    },
    {
      "cell_type": "code",
      "source": [
        "%%bash\n",
        "mkdir data\n",
        "wget --load-cookies /tmp/cookies.txt \"https://docs.google.com/uc?export=download&confirm=$(wget --quiet --save-cookies /tmp/cookies.txt --keep-session-cookies --no-check-certificate 'https://docs.google.com/uc?export=download&id=1uSgX8EaXtSR1yZgs-pJGYiZXi7tPEBrE' -O- | sed -rn 's/.*confirm=([0-9A-Za-z_]+).*/\\1\\n/p')&id=1uSgX8EaXtSR1yZgs-pJGYiZXi7tPEBrE\" -O data/qa_data.jsonl.zip && rm -rf /tmp/cookies.txt\n",
        "unzip data/qa_data.jsonl.zip -d data"
      ],
      "metadata": {
        "id": "NW1plkpwv6N1"
      },
      "execution_count": null,
      "outputs": []
    },
    {
      "cell_type": "markdown",
      "source": [
        "## Data"
      ],
      "metadata": {
        "id": "3Qq5UFzTnnYs"
      }
    },
    {
      "cell_type": "code",
      "source": [
        "!sed 5q data/qa_data.jsonl"
      ],
      "metadata": {
        "colab": {
          "base_uri": "https://localhost:8080/"
        },
        "id": "bW_FsRsVmYMd",
        "outputId": "2ce15a9e-9ee1-4b1b-9618-57effd200ea5"
      },
      "execution_count": 4,
      "outputs": [
        {
          "output_type": "stream",
          "name": "stdout",
          "text": [
            "{\"question\": \"долго ли идут деньги с яндексденег на карту visa?\", \"category\": \"Бизнес, Финансы\", \"responses\": [\"нет. прорыв 35 ;)\"]}\n",
            "{\"question\": \"можно ли зарегистрировать авто в другом регионе\", \"category\": \"Авто, Мото\", \"responses\": [\"можно на родственника из того региона.. .  а потом ездить по доверке\"]}\n",
            "{\"question\": \"что делать если у меня очень тонкие ногти а хочется их отрастить?\", \"category\": \"Красота и Здоровье\", \"responses\": [\"витамины и умная эмаль (каждый день)\", \"ванночки с морской солью. с вечера мажь ногти сверху йодом. не бойся, до утра все впитается.\", \"умная эмаль, витамины, йод, и поменьше крась лаком \", \"лаки фирмы trind производство usa + кальций\"]}\n",
            "{\"question\": \"в чем отличие медитации от йоги?\", \"category\": \"Спорт\", \"responses\": [\"букв в йоге меньше\", \"в медитации ты просто сидишь и мммммычишь. а в йоге всяко разные упражнения вытворяешь\", \"в медитации вроде просто тупо сидишь и успокаеваешься, а в йоге еще и ноги за уши закидывать надо\"]}\n",
            "{\"question\": \"когда начнут линейку фильмов про лигу чемпионов?\", \"category\": \"Спорт\", \"responses\": [\"а не фильм? жалко... а я то думал - хорошая комедия\"]}\n"
          ]
        }
      ]
    },
    {
      "cell_type": "code",
      "source": [
        "with codecs.open(\"data/qa_data.jsonl\", encoding='utf-8-sig') as reader:\n",
        "    lines = reader.read().split(\"\\n\")\n",
        "    lines = list(map(json.loads, filter(None, lines)))\n",
        "\n",
        "data = []\n",
        "for line in tqdm(lines):\n",
        "    for response in line['responses']:\n",
        "        data.append(\n",
        "            {'question': line['question'].lower(),\n",
        "             'category': line['category'],\n",
        "             'response': response.lower()})\n",
        "\n",
        "del lines\n",
        "df = pd.json_normalize(data)\n",
        "del data"
      ],
      "metadata": {
        "colab": {
          "base_uri": "https://localhost:8080/",
          "height": 49,
          "referenced_widgets": [
            "62987d2ce5284b849384182f616a5e2e",
            "e5bf0da088d5410eb922c470d5dab395",
            "f9b757c3b7214529a7cba142e03b8916",
            "a7f3c87c8b044b98adf4dfffaef07258",
            "0fd16d263ae74598adedc5789a2ac294",
            "71d1548b17fa4782b14f85fdb809fe35",
            "1318653c4dbf4978a105a1aff05356c1",
            "6606db5326594804b2d46364cf0895d7",
            "eefc295318b7475b95a9bc00a725821d",
            "947ec20a368d4cf28acf674dae361c2f",
            "7f5be22516834d62af4131d71e067e65"
          ]
        },
        "id": "g0Y-AdoUnkpW",
        "outputId": "32719150-5aa7-463c-b571-25d105b61334"
      },
      "execution_count": 4,
      "outputs": [
        {
          "output_type": "display_data",
          "data": {
            "application/vnd.jupyter.widget-view+json": {
              "model_id": "62987d2ce5284b849384182f616a5e2e",
              "version_minor": 0,
              "version_major": 2
            },
            "text/plain": [
              "  0%|          | 0/2808811 [00:00<?, ?it/s]"
            ]
          },
          "metadata": {}
        }
      ]
    },
    {
      "cell_type": "code",
      "source": [
        "df.head()"
      ],
      "metadata": {
        "colab": {
          "base_uri": "https://localhost:8080/",
          "height": 206
        },
        "id": "g1Qo_gM7lbac",
        "outputId": "146332a4-8094-41c9-8034-e6aeaa5bfb88"
      },
      "execution_count": 5,
      "outputs": [
        {
          "output_type": "execute_result",
          "data": {
            "text/html": [
              "<div>\n",
              "<style scoped>\n",
              "    .dataframe tbody tr th:only-of-type {\n",
              "        vertical-align: middle;\n",
              "    }\n",
              "\n",
              "    .dataframe tbody tr th {\n",
              "        vertical-align: top;\n",
              "    }\n",
              "\n",
              "    .dataframe thead th {\n",
              "        text-align: right;\n",
              "    }\n",
              "</style>\n",
              "<table border=\"1\" class=\"dataframe\">\n",
              "  <thead>\n",
              "    <tr style=\"text-align: right;\">\n",
              "      <th></th>\n",
              "      <th>question</th>\n",
              "      <th>category</th>\n",
              "      <th>response</th>\n",
              "    </tr>\n",
              "  </thead>\n",
              "  <tbody>\n",
              "    <tr>\n",
              "      <th>0</th>\n",
              "      <td>долго ли идут деньги с яндексденег на карту visa?</td>\n",
              "      <td>Бизнес, Финансы</td>\n",
              "      <td>нет. прорыв 35 ;)</td>\n",
              "    </tr>\n",
              "    <tr>\n",
              "      <th>1</th>\n",
              "      <td>можно ли зарегистрировать авто в другом регионе</td>\n",
              "      <td>Авто, Мото</td>\n",
              "      <td>можно на родственника из того региона.. .  а п...</td>\n",
              "    </tr>\n",
              "    <tr>\n",
              "      <th>2</th>\n",
              "      <td>что делать если у меня очень тонкие ногти а хо...</td>\n",
              "      <td>Красота и Здоровье</td>\n",
              "      <td>витамины и умная эмаль (каждый день)</td>\n",
              "    </tr>\n",
              "    <tr>\n",
              "      <th>3</th>\n",
              "      <td>что делать если у меня очень тонкие ногти а хо...</td>\n",
              "      <td>Красота и Здоровье</td>\n",
              "      <td>ванночки с морской солью. с вечера мажь ногти ...</td>\n",
              "    </tr>\n",
              "    <tr>\n",
              "      <th>4</th>\n",
              "      <td>что делать если у меня очень тонкие ногти а хо...</td>\n",
              "      <td>Красота и Здоровье</td>\n",
              "      <td>умная эмаль, витамины, йод, и поменьше крась л...</td>\n",
              "    </tr>\n",
              "  </tbody>\n",
              "</table>\n",
              "</div>"
            ],
            "text/plain": [
              "                                            question  ...                                           response\n",
              "0  долго ли идут деньги с яндексденег на карту visa?  ...                                  нет. прорыв 35 ;)\n",
              "1    можно ли зарегистрировать авто в другом регионе  ...  можно на родственника из того региона.. .  а п...\n",
              "2  что делать если у меня очень тонкие ногти а хо...  ...               витамины и умная эмаль (каждый день)\n",
              "3  что делать если у меня очень тонкие ногти а хо...  ...  ванночки с морской солью. с вечера мажь ногти ...\n",
              "4  что делать если у меня очень тонкие ногти а хо...  ...  умная эмаль, витамины, йод, и поменьше крась л...\n",
              "\n",
              "[5 rows x 3 columns]"
            ]
          },
          "metadata": {},
          "execution_count": 5
        }
      ]
    },
    {
      "cell_type": "code",
      "source": [
        "df_mini = df.sample(frac=0.01, random_state=42)\n",
        "train_df=df_mini.sample(frac=0.8,random_state=42)\n",
        "test_df=df_mini.drop(train_df.index)"
      ],
      "metadata": {
        "id": "O16oQWrWt1yJ"
      },
      "execution_count": 28,
      "outputs": []
    },
    {
      "cell_type": "code",
      "source": [
        "train_df.category.value_counts()"
      ],
      "metadata": {
        "colab": {
          "base_uri": "https://localhost:8080/"
        },
        "id": "tOck-StiuY4u",
        "outputId": "b3d028c1-1baa-48b2-970b-b9ed5605e422"
      },
      "execution_count": 29,
      "outputs": [
        {
          "output_type": "execute_result",
          "data": {
            "text/plain": [
              "Знакомства, Любовь, Отношения    7978\n",
              "Философия, Непознанное           7098\n",
              "Семья, Дом, Дети                 6282\n",
              "Красота и Здоровье               5233\n",
              "Искусство и Культура             5192\n",
              "Авто, Мото                       4711\n",
              "Спорт                            3984\n",
              "Животные, Растения               3808\n",
              "Досуг, Развлечения               3320\n",
              "Еда, Кулинария                   2804\n",
              "Стиль, Мода, Звезды              2744\n",
              "Бизнес, Финансы                  2366\n",
              "Путешествия, Туризм              2298\n",
              "Работа, Карьера                  2287\n",
              "Образование                      2032\n",
              "Name: category, dtype: int64"
            ]
          },
          "metadata": {},
          "execution_count": 29
        }
      ]
    },
    {
      "cell_type": "code",
      "source": [
        "tokenizer = yttm.BPE(model=\"pretrained/pretrained_bpe_lm.model\")"
      ],
      "metadata": {
        "id": "PKxM1yDvugUF"
      },
      "execution_count": 30,
      "outputs": []
    },
    {
      "cell_type": "code",
      "source": [
        "train_df.question = tokenizer.encode(train_df.question.tolist(), bos=True, eos=True)\n",
        "train_df.response = tokenizer.encode(train_df.response.tolist(), bos=True, eos=True)\n",
        "test_df.question = tokenizer.encode(test_df.question.tolist(), bos=True, eos=True)\n",
        "test_df.response = tokenizer.encode(test_df.response.tolist(), bos=True, eos=True)"
      ],
      "metadata": {
        "id": "JfeP36B7zl-e"
      },
      "execution_count": 31,
      "outputs": []
    },
    {
      "cell_type": "code",
      "source": [
        "q_lengths = np.array([len(x) for x in train_df.question.tolist()])\n",
        "r_lenghts = np.array([len(x) for x in train_df.response.tolist()])\n",
        "np.percentile(q_lengths, q=95), np.percentile(r_lenghts, q=95)"
      ],
      "metadata": {
        "colab": {
          "base_uri": "https://localhost:8080/"
        },
        "id": "7EFHf64t1Bio",
        "outputId": "ec477907-e01f-475f-a66e-151ceeaa087e"
      },
      "execution_count": 39,
      "outputs": [
        {
          "output_type": "execute_result",
          "data": {
            "text/plain": [
              "(28.0, 29.0)"
            ]
          },
          "metadata": {},
          "execution_count": 39
        }
      ]
    },
    {
      "cell_type": "code",
      "source": [
        "batch_size = 64\n",
        "max_len = 32\n",
        "pad_index = 0\n",
        "eos_index = 3"
      ],
      "metadata": {
        "id": "X-_SXimv2NqH"
      },
      "execution_count": 40,
      "outputs": []
    },
    {
      "cell_type": "code",
      "source": [
        ""
      ],
      "metadata": {
        "id": "7XXFKp3u8km4"
      },
      "execution_count": null,
      "outputs": []
    }
  ]
}