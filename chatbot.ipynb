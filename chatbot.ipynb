{
  "nbformat": 4,
  "nbformat_minor": 0,
  "metadata": {
    "colab": {
      "name": "chatbot.ipynb",
      "provenance": [],
      "collapsed_sections": [],
      "toc_visible": true,
      "machine_shape": "hm",
      "authorship_tag": "ABX9TyOlbGBs22bHjxsd4sc36Cg2",
      "include_colab_link": true
    },
    "kernelspec": {
      "name": "python3",
      "display_name": "Python 3"
    },
    "language_info": {
      "name": "python"
    },
    "accelerator": "GPU",
    "widgets": {
      "application/vnd.jupyter.widget-state+json": {
        "62987d2ce5284b849384182f616a5e2e": {
          "model_module": "@jupyter-widgets/controls",
          "model_name": "HBoxModel",
          "model_module_version": "1.5.0",
          "state": {
            "_view_name": "HBoxView",
            "_dom_classes": [],
            "_model_name": "HBoxModel",
            "_view_module": "@jupyter-widgets/controls",
            "_model_module_version": "1.5.0",
            "_view_count": null,
            "_view_module_version": "1.5.0",
            "box_style": "",
            "layout": "IPY_MODEL_e5bf0da088d5410eb922c470d5dab395",
            "_model_module": "@jupyter-widgets/controls",
            "children": [
              "IPY_MODEL_f9b757c3b7214529a7cba142e03b8916",
              "IPY_MODEL_a7f3c87c8b044b98adf4dfffaef07258",
              "IPY_MODEL_0fd16d263ae74598adedc5789a2ac294"
            ]
          }
        },
        "e5bf0da088d5410eb922c470d5dab395": {
          "model_module": "@jupyter-widgets/base",
          "model_name": "LayoutModel",
          "model_module_version": "1.2.0",
          "state": {
            "_view_name": "LayoutView",
            "grid_template_rows": null,
            "right": null,
            "justify_content": null,
            "_view_module": "@jupyter-widgets/base",
            "overflow": null,
            "_model_module_version": "1.2.0",
            "_view_count": null,
            "flex_flow": null,
            "width": null,
            "min_width": null,
            "border": null,
            "align_items": null,
            "bottom": null,
            "_model_module": "@jupyter-widgets/base",
            "top": null,
            "grid_column": null,
            "overflow_y": null,
            "overflow_x": null,
            "grid_auto_flow": null,
            "grid_area": null,
            "grid_template_columns": null,
            "flex": null,
            "_model_name": "LayoutModel",
            "justify_items": null,
            "grid_row": null,
            "max_height": null,
            "align_content": null,
            "visibility": null,
            "align_self": null,
            "height": null,
            "min_height": null,
            "padding": null,
            "grid_auto_rows": null,
            "grid_gap": null,
            "max_width": null,
            "order": null,
            "_view_module_version": "1.2.0",
            "grid_template_areas": null,
            "object_position": null,
            "object_fit": null,
            "grid_auto_columns": null,
            "margin": null,
            "display": null,
            "left": null
          }
        },
        "f9b757c3b7214529a7cba142e03b8916": {
          "model_module": "@jupyter-widgets/controls",
          "model_name": "HTMLModel",
          "model_module_version": "1.5.0",
          "state": {
            "_view_name": "HTMLView",
            "style": "IPY_MODEL_71d1548b17fa4782b14f85fdb809fe35",
            "_dom_classes": [],
            "description": "",
            "_model_name": "HTMLModel",
            "placeholder": "​",
            "_view_module": "@jupyter-widgets/controls",
            "_model_module_version": "1.5.0",
            "value": "100%",
            "_view_count": null,
            "_view_module_version": "1.5.0",
            "description_tooltip": null,
            "_model_module": "@jupyter-widgets/controls",
            "layout": "IPY_MODEL_1318653c4dbf4978a105a1aff05356c1"
          }
        },
        "a7f3c87c8b044b98adf4dfffaef07258": {
          "model_module": "@jupyter-widgets/controls",
          "model_name": "FloatProgressModel",
          "model_module_version": "1.5.0",
          "state": {
            "_view_name": "ProgressView",
            "style": "IPY_MODEL_6606db5326594804b2d46364cf0895d7",
            "_dom_classes": [],
            "description": "",
            "_model_name": "FloatProgressModel",
            "bar_style": "success",
            "max": 2808811,
            "_view_module": "@jupyter-widgets/controls",
            "_model_module_version": "1.5.0",
            "value": 2808811,
            "_view_count": null,
            "_view_module_version": "1.5.0",
            "orientation": "horizontal",
            "min": 0,
            "description_tooltip": null,
            "_model_module": "@jupyter-widgets/controls",
            "layout": "IPY_MODEL_eefc295318b7475b95a9bc00a725821d"
          }
        },
        "0fd16d263ae74598adedc5789a2ac294": {
          "model_module": "@jupyter-widgets/controls",
          "model_name": "HTMLModel",
          "model_module_version": "1.5.0",
          "state": {
            "_view_name": "HTMLView",
            "style": "IPY_MODEL_947ec20a368d4cf28acf674dae361c2f",
            "_dom_classes": [],
            "description": "",
            "_model_name": "HTMLModel",
            "placeholder": "​",
            "_view_module": "@jupyter-widgets/controls",
            "_model_module_version": "1.5.0",
            "value": " 2808811/2808811 [00:14&lt;00:00, 211598.73it/s]",
            "_view_count": null,
            "_view_module_version": "1.5.0",
            "description_tooltip": null,
            "_model_module": "@jupyter-widgets/controls",
            "layout": "IPY_MODEL_7f5be22516834d62af4131d71e067e65"
          }
        },
        "71d1548b17fa4782b14f85fdb809fe35": {
          "model_module": "@jupyter-widgets/controls",
          "model_name": "DescriptionStyleModel",
          "model_module_version": "1.5.0",
          "state": {
            "_view_name": "StyleView",
            "_model_name": "DescriptionStyleModel",
            "description_width": "",
            "_view_module": "@jupyter-widgets/base",
            "_model_module_version": "1.5.0",
            "_view_count": null,
            "_view_module_version": "1.2.0",
            "_model_module": "@jupyter-widgets/controls"
          }
        },
        "1318653c4dbf4978a105a1aff05356c1": {
          "model_module": "@jupyter-widgets/base",
          "model_name": "LayoutModel",
          "model_module_version": "1.2.0",
          "state": {
            "_view_name": "LayoutView",
            "grid_template_rows": null,
            "right": null,
            "justify_content": null,
            "_view_module": "@jupyter-widgets/base",
            "overflow": null,
            "_model_module_version": "1.2.0",
            "_view_count": null,
            "flex_flow": null,
            "width": null,
            "min_width": null,
            "border": null,
            "align_items": null,
            "bottom": null,
            "_model_module": "@jupyter-widgets/base",
            "top": null,
            "grid_column": null,
            "overflow_y": null,
            "overflow_x": null,
            "grid_auto_flow": null,
            "grid_area": null,
            "grid_template_columns": null,
            "flex": null,
            "_model_name": "LayoutModel",
            "justify_items": null,
            "grid_row": null,
            "max_height": null,
            "align_content": null,
            "visibility": null,
            "align_self": null,
            "height": null,
            "min_height": null,
            "padding": null,
            "grid_auto_rows": null,
            "grid_gap": null,
            "max_width": null,
            "order": null,
            "_view_module_version": "1.2.0",
            "grid_template_areas": null,
            "object_position": null,
            "object_fit": null,
            "grid_auto_columns": null,
            "margin": null,
            "display": null,
            "left": null
          }
        },
        "6606db5326594804b2d46364cf0895d7": {
          "model_module": "@jupyter-widgets/controls",
          "model_name": "ProgressStyleModel",
          "model_module_version": "1.5.0",
          "state": {
            "_view_name": "StyleView",
            "_model_name": "ProgressStyleModel",
            "description_width": "",
            "_view_module": "@jupyter-widgets/base",
            "_model_module_version": "1.5.0",
            "_view_count": null,
            "_view_module_version": "1.2.0",
            "bar_color": null,
            "_model_module": "@jupyter-widgets/controls"
          }
        },
        "eefc295318b7475b95a9bc00a725821d": {
          "model_module": "@jupyter-widgets/base",
          "model_name": "LayoutModel",
          "model_module_version": "1.2.0",
          "state": {
            "_view_name": "LayoutView",
            "grid_template_rows": null,
            "right": null,
            "justify_content": null,
            "_view_module": "@jupyter-widgets/base",
            "overflow": null,
            "_model_module_version": "1.2.0",
            "_view_count": null,
            "flex_flow": null,
            "width": null,
            "min_width": null,
            "border": null,
            "align_items": null,
            "bottom": null,
            "_model_module": "@jupyter-widgets/base",
            "top": null,
            "grid_column": null,
            "overflow_y": null,
            "overflow_x": null,
            "grid_auto_flow": null,
            "grid_area": null,
            "grid_template_columns": null,
            "flex": null,
            "_model_name": "LayoutModel",
            "justify_items": null,
            "grid_row": null,
            "max_height": null,
            "align_content": null,
            "visibility": null,
            "align_self": null,
            "height": null,
            "min_height": null,
            "padding": null,
            "grid_auto_rows": null,
            "grid_gap": null,
            "max_width": null,
            "order": null,
            "_view_module_version": "1.2.0",
            "grid_template_areas": null,
            "object_position": null,
            "object_fit": null,
            "grid_auto_columns": null,
            "margin": null,
            "display": null,
            "left": null
          }
        },
        "947ec20a368d4cf28acf674dae361c2f": {
          "model_module": "@jupyter-widgets/controls",
          "model_name": "DescriptionStyleModel",
          "model_module_version": "1.5.0",
          "state": {
            "_view_name": "StyleView",
            "_model_name": "DescriptionStyleModel",
            "description_width": "",
            "_view_module": "@jupyter-widgets/base",
            "_model_module_version": "1.5.0",
            "_view_count": null,
            "_view_module_version": "1.2.0",
            "_model_module": "@jupyter-widgets/controls"
          }
        },
        "7f5be22516834d62af4131d71e067e65": {
          "model_module": "@jupyter-widgets/base",
          "model_name": "LayoutModel",
          "model_module_version": "1.2.0",
          "state": {
            "_view_name": "LayoutView",
            "grid_template_rows": null,
            "right": null,
            "justify_content": null,
            "_view_module": "@jupyter-widgets/base",
            "overflow": null,
            "_model_module_version": "1.2.0",
            "_view_count": null,
            "flex_flow": null,
            "width": null,
            "min_width": null,
            "border": null,
            "align_items": null,
            "bottom": null,
            "_model_module": "@jupyter-widgets/base",
            "top": null,
            "grid_column": null,
            "overflow_y": null,
            "overflow_x": null,
            "grid_auto_flow": null,
            "grid_area": null,
            "grid_template_columns": null,
            "flex": null,
            "_model_name": "LayoutModel",
            "justify_items": null,
            "grid_row": null,
            "max_height": null,
            "align_content": null,
            "visibility": null,
            "align_self": null,
            "height": null,
            "min_height": null,
            "padding": null,
            "grid_auto_rows": null,
            "grid_gap": null,
            "max_width": null,
            "order": null,
            "_view_module_version": "1.2.0",
            "grid_template_areas": null,
            "object_position": null,
            "object_fit": null,
            "grid_auto_columns": null,
            "margin": null,
            "display": null,
            "left": null
          }
        }
      }
    }
  },
  "cells": [
    {
      "cell_type": "markdown",
      "metadata": {
        "id": "view-in-github",
        "colab_type": "text"
      },
      "source": [
        "<a href=\"https://colab.research.google.com/github/deniskapel/GenerativeChitChat/blob/master/chatbot.ipynb\" target=\"_parent\"><img src=\"https://colab.research.google.com/assets/colab-badge.svg\" alt=\"Open In Colab\"/></a>"
      ]
    },
    {
      "cell_type": "code",
      "execution_count": null,
      "metadata": {
        "id": "N3OyXPMXibW7"
      },
      "outputs": [],
      "source": [
        "%%bash\n",
        "wget \"https://raw.githubusercontent.com/deniskapel/GenerativeChitChat/master/requirements.txt\"\n",
        "pip install -r requirements.txt"
      ]
    },
    {
      "cell_type": "code",
      "source": [
        "import codecs\n",
        "import json\n",
        "import math\n",
        "import numpy as np\n",
        "import pandas as pd\n",
        "\n",
        "import random\n",
        "import json\n",
        "import torch\n",
        "from torch.utils.data import Dataset, DataLoader\n",
        "\n",
        "from tqdm.notebook import tqdm\n",
        "\n",
        "from matplotlib import pyplot as plt\n",
        "\n",
        "import youtokentome as yttm"
      ],
      "metadata": {
        "id": "HyZvLEEanEae"
      },
      "execution_count": 2,
      "outputs": []
    },
    {
      "cell_type": "code",
      "source": [
        "%%bash\n",
        "mkdir data\n",
        "wget --load-cookies /tmp/cookies.txt \"https://docs.google.com/uc?export=download&confirm=$(wget --quiet --save-cookies /tmp/cookies.txt --keep-session-cookies --no-check-certificate 'https://docs.google.com/uc?export=download&id=1uSgX8EaXtSR1yZgs-pJGYiZXi7tPEBrE' -O- | sed -rn 's/.*confirm=([0-9A-Za-z_]+).*/\\1\\n/p')&id=1uSgX8EaXtSR1yZgs-pJGYiZXi7tPEBrE\" -O data/qa_data.jsonl.zip && rm -rf /tmp/cookies.txt\n",
        "unzip data/qa_data.jsonl.zip -d data"
      ],
      "metadata": {
        "id": "NW1plkpwv6N1"
      },
      "execution_count": null,
      "outputs": []
    },
    {
      "cell_type": "code",
      "source": [
        "assert torch.cuda.is_available(), 'no gpu available'\n",
        "device = torch.device('cuda:1')"
      ],
      "metadata": {
        "id": "p9d0p9R99Tyj"
      },
      "execution_count": 41,
      "outputs": []
    },
    {
      "cell_type": "markdown",
      "source": [
        "## Data"
      ],
      "metadata": {
        "id": "3Qq5UFzTnnYs"
      }
    },
    {
      "cell_type": "code",
      "source": [
        "!sed 5q data/qa_data.jsonl"
      ],
      "metadata": {
        "colab": {
          "base_uri": "https://localhost:8080/"
        },
        "id": "bW_FsRsVmYMd",
        "outputId": "2ce15a9e-9ee1-4b1b-9618-57effd200ea5"
      },
      "execution_count": 4,
      "outputs": [
        {
          "output_type": "stream",
          "name": "stdout",
          "text": [
            "{\"question\": \"долго ли идут деньги с яндексденег на карту visa?\", \"category\": \"Бизнес, Финансы\", \"responses\": [\"нет. прорыв 35 ;)\"]}\n",
            "{\"question\": \"можно ли зарегистрировать авто в другом регионе\", \"category\": \"Авто, Мото\", \"responses\": [\"можно на родственника из того региона.. .  а потом ездить по доверке\"]}\n",
            "{\"question\": \"что делать если у меня очень тонкие ногти а хочется их отрастить?\", \"category\": \"Красота и Здоровье\", \"responses\": [\"витамины и умная эмаль (каждый день)\", \"ванночки с морской солью. с вечера мажь ногти сверху йодом. не бойся, до утра все впитается.\", \"умная эмаль, витамины, йод, и поменьше крась лаком \", \"лаки фирмы trind производство usa + кальций\"]}\n",
            "{\"question\": \"в чем отличие медитации от йоги?\", \"category\": \"Спорт\", \"responses\": [\"букв в йоге меньше\", \"в медитации ты просто сидишь и мммммычишь. а в йоге всяко разные упражнения вытворяешь\", \"в медитации вроде просто тупо сидишь и успокаеваешься, а в йоге еще и ноги за уши закидывать надо\"]}\n",
            "{\"question\": \"когда начнут линейку фильмов про лигу чемпионов?\", \"category\": \"Спорт\", \"responses\": [\"а не фильм? жалко... а я то думал - хорошая комедия\"]}\n"
          ]
        }
      ]
    },
    {
      "cell_type": "code",
      "source": [
        "with codecs.open(\"data/qa_data.jsonl\", encoding='utf-8-sig') as reader:\n",
        "    lines = reader.read().split(\"\\n\")\n",
        "    lines = list(map(json.loads, filter(None, lines)))\n",
        "\n",
        "data = []\n",
        "for line in tqdm(lines):\n",
        "    for response in line['responses']:\n",
        "        data.append(\n",
        "            {'question': line['question'].lower(),\n",
        "             'category': line['category'],\n",
        "             'response': response.lower()})\n",
        "\n",
        "del lines\n",
        "df = pd.json_normalize(data)\n",
        "del data"
      ],
      "metadata": {
        "colab": {
          "base_uri": "https://localhost:8080/",
          "height": 49,
          "referenced_widgets": [
            "62987d2ce5284b849384182f616a5e2e",
            "e5bf0da088d5410eb922c470d5dab395",
            "f9b757c3b7214529a7cba142e03b8916",
            "a7f3c87c8b044b98adf4dfffaef07258",
            "0fd16d263ae74598adedc5789a2ac294",
            "71d1548b17fa4782b14f85fdb809fe35",
            "1318653c4dbf4978a105a1aff05356c1",
            "6606db5326594804b2d46364cf0895d7",
            "eefc295318b7475b95a9bc00a725821d",
            "947ec20a368d4cf28acf674dae361c2f",
            "7f5be22516834d62af4131d71e067e65"
          ]
        },
        "id": "g0Y-AdoUnkpW",
        "outputId": "32719150-5aa7-463c-b571-25d105b61334"
      },
      "execution_count": 4,
      "outputs": [
        {
          "output_type": "display_data",
          "data": {
            "application/vnd.jupyter.widget-view+json": {
              "model_id": "62987d2ce5284b849384182f616a5e2e",
              "version_minor": 0,
              "version_major": 2
            },
            "text/plain": [
              "  0%|          | 0/2808811 [00:00<?, ?it/s]"
            ]
          },
          "metadata": {}
        }
      ]
    },
    {
      "cell_type": "code",
      "source": [
        "df.head()"
      ],
      "metadata": {
        "id": "g1Qo_gM7lbac"
      },
      "execution_count": null,
      "outputs": []
    },
    {
      "cell_type": "code",
      "source": [
        "df_mini = df.sample(frac=0.01, random_state=42)\n",
        "train_df=df_mini.sample(frac=0.8,random_state=42)\n",
        "test_df=df_mini.drop(train_df.index)"
      ],
      "metadata": {
        "id": "O16oQWrWt1yJ"
      },
      "execution_count": 28,
      "outputs": []
    },
    {
      "cell_type": "code",
      "source": [
        "train_df.category.value_counts()"
      ],
      "metadata": {
        "id": "tOck-StiuY4u"
      },
      "execution_count": null,
      "outputs": []
    },
    {
      "cell_type": "code",
      "source": [
        "tokenizer = yttm.BPE(model=\"pretrained/pretrained_bpe_lm.model\")"
      ],
      "metadata": {
        "id": "PKxM1yDvugUF"
      },
      "execution_count": 30,
      "outputs": []
    },
    {
      "cell_type": "code",
      "source": [
        "train_df.question = tokenizer.encode(train_df.question.tolist(), bos=True, eos=True)\n",
        "train_df.response = tokenizer.encode(train_df.response.tolist(), bos=True, eos=True)\n",
        "test_df.question = tokenizer.encode(test_df.question.tolist(), bos=True, eos=True)\n",
        "test_df.response = tokenizer.encode(test_df.response.tolist(), bos=True, eos=True)"
      ],
      "metadata": {
        "id": "JfeP36B7zl-e"
      },
      "execution_count": 31,
      "outputs": []
    },
    {
      "cell_type": "code",
      "source": [
        "train_df.question[0:1].tolist()"
      ],
      "metadata": {
        "colab": {
          "base_uri": "https://localhost:8080/"
        },
        "id": "dfDY1AOMCdXz",
        "outputId": "a2ef8ef4-6f7d-4722-fa2e-5d19164f8f1e"
      },
      "execution_count": 44,
      "outputs": [
        {
          "output_type": "execute_result",
          "data": {
            "text/plain": [
              "[[2, 1774, 2039, 16232, 4490, 3653, 1777, 10553, 3]]"
            ]
          },
          "metadata": {},
          "execution_count": 44
        }
      ]
    },
    {
      "cell_type": "code",
      "source": [
        "q_lengths = np.array([len(x) for x in train_df.question.tolist()])\n",
        "r_lenghts = np.array([len(x) for x in train_df.response.tolist()])\n",
        "np.percentile(q_lengths, q=99), np.percentile(r_lenghts, q=99)"
      ],
      "metadata": {
        "colab": {
          "base_uri": "https://localhost:8080/"
        },
        "id": "7EFHf64t1Bio",
        "outputId": "1301a64b-0c81-490e-b545-64249dc36082"
      },
      "execution_count": 53,
      "outputs": [
        {
          "output_type": "execute_result",
          "data": {
            "text/plain": [
              "(33.0, 34.0)"
            ]
          },
          "metadata": {},
          "execution_count": 53
        }
      ]
    },
    {
      "cell_type": "code",
      "source": [
        "batch_size = 64\n",
        "q_max_len, r_max_len = 35, 35\n",
        "pad_index = 0\n",
        "eos_index = 3"
      ],
      "metadata": {
        "id": "X-_SXimv2NqH"
      },
      "execution_count": 54,
      "outputs": []
    },
    {
      "cell_type": "code",
      "source": [
        "class QAData(torch.utils.data.Dataset):\n",
        "    \n",
        "    def __init__(self, questions, responses, categories,\n",
        "                 max_len_question, max_len_response,\n",
        "                 pad_index, eos_index):\n",
        "        \n",
        "        self.x = questions\n",
        "        self.y = responses\n",
        "        self.categories = categories # to use with beam search later\n",
        "\n",
        "        self.question_len = max_len_question\n",
        "        self.response_len = max_len_response\n",
        "\n",
        "        self.pad_index = pad_index\n",
        "        self.eos_index = eos_index\n",
        "        \n",
        "    def __len__(self):\n",
        "        return len(self.x)\n",
        "    \n",
        "    def __getitem__(self, index):\n",
        "        \"\"\" x is a question and y is an asnwer\"\"\"\n",
        "        \n",
        "        x = self.x[index][:self.question_len]\n",
        "        y = self.y[index][:self.response_len]\n",
        "\n",
        "        x_pads = [self.pad_index] * (self.question_len - len(x))\n",
        "        y_pads = [self.pad_index] * (self.response_len - len(y))\n",
        "\n",
        "        x = torch.tensor(x + x_pads).long()\n",
        "        y = torch.tensor(y + y_pads).long()\n",
        "        \n",
        "        return x, y"
      ],
      "metadata": {
        "id": "7XXFKp3u8km4"
      },
      "execution_count": 60,
      "outputs": []
    },
    {
      "cell_type": "code",
      "source": [
        "train_dataset = QAData(\n",
        "    questions=train_df.question.tolist(),\n",
        "    responses=train_df.response.tolist(),\n",
        "    categories=train_df.category.tolist(),\n",
        "    max_len_question=q_max_len, max_len_response=r_max_len,\n",
        "    pad_index=pad_index,\n",
        "    eos_index=eos_index)\n",
        "\n",
        "test_dataset = QAData(\n",
        "    questions=test_df.question.tolist(),\n",
        "    responses=test_df.response.tolist(),\n",
        "    categories=test_df.category.tolist(),\n",
        "    max_len_question=q_max_len, max_len_response=r_max_len,\n",
        "    pad_index=pad_index,\n",
        "    eos_index=eos_index)\n",
        "\n",
        "len(train_dataset), len(test_dataset)"
      ],
      "metadata": {
        "colab": {
          "base_uri": "https://localhost:8080/"
        },
        "id": "tf8vYVq5Bfcg",
        "outputId": "1ec96c4a-ba2d-40c7-b8d6-dd300b70fcd5"
      },
      "execution_count": 61,
      "outputs": [
        {
          "output_type": "execute_result",
          "data": {
            "text/plain": [
              "(62137, 15534)"
            ]
          },
          "metadata": {},
          "execution_count": 61
        }
      ]
    },
    {
      "cell_type": "code",
      "source": [
        "train_loader = torch.utils.data.DataLoader(train_dataset,\n",
        "                                           batch_size=batch_size,\n",
        "                                           shuffle=True)\n",
        "test_loader = torch.utils.data.DataLoader(test_dataset,\n",
        "                                          batch_size=batch_size)"
      ],
      "metadata": {
        "id": "CQqmyHs4F0dv"
      },
      "execution_count": 62,
      "outputs": []
    },
    {
      "cell_type": "code",
      "source": [
        "for x, y in train_loader:\n",
        "    break\n",
        "\n",
        "x.shape, y.shape"
      ],
      "metadata": {
        "colab": {
          "base_uri": "https://localhost:8080/"
        },
        "id": "y94gfaO5GwDF",
        "outputId": "c488c06e-21f1-4ec1-8556-214de5ee4970"
      },
      "execution_count": 69,
      "outputs": [
        {
          "output_type": "execute_result",
          "data": {
            "text/plain": [
              "(torch.Size([64, 35]), torch.Size([64, 35]))"
            ]
          },
          "metadata": {},
          "execution_count": 69
        }
      ]
    },
    {
      "cell_type": "markdown",
      "source": [
        "## Model"
      ],
      "metadata": {
        "id": "DETLX6nKHuze"
      }
    },
    {
      "cell_type": "code",
      "source": [
        ""
      ],
      "metadata": {
        "id": "CIk0YCwcHf_w"
      },
      "execution_count": null,
      "outputs": []
    }
  ]
}