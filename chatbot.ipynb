{
  "nbformat": 4,
  "nbformat_minor": 0,
  "metadata": {
    "colab": {
      "name": "chatbot.ipynb",
      "provenance": [],
      "collapsed_sections": [],
      "machine_shape": "hm",
      "authorship_tag": "ABX9TyOc3sEOSzTySjyCGfNLATP+",
      "include_colab_link": true
    },
    "kernelspec": {
      "name": "python3",
      "display_name": "Python 3"
    },
    "language_info": {
      "name": "python"
    },
    "accelerator": "GPU",
    "widgets": {
      "application/vnd.jupyter.widget-state+json": {
        "871c17a6a32e4b6b84ebbd6c36451d92": {
          "model_module": "@jupyter-widgets/controls",
          "model_name": "HBoxModel",
          "model_module_version": "1.5.0",
          "state": {
            "_view_name": "HBoxView",
            "_dom_classes": [],
            "_model_name": "HBoxModel",
            "_view_module": "@jupyter-widgets/controls",
            "_model_module_version": "1.5.0",
            "_view_count": null,
            "_view_module_version": "1.5.0",
            "box_style": "",
            "layout": "IPY_MODEL_c03aed56fe5e421294cdccda43111fc1",
            "_model_module": "@jupyter-widgets/controls",
            "children": [
              "IPY_MODEL_e35faed5b6844c22b983b9c3f3048465",
              "IPY_MODEL_84c1d768ba5247208fd97320ef48800c",
              "IPY_MODEL_928148d3361a474882556bb4b04889e2"
            ]
          }
        },
        "c03aed56fe5e421294cdccda43111fc1": {
          "model_module": "@jupyter-widgets/base",
          "model_name": "LayoutModel",
          "model_module_version": "1.2.0",
          "state": {
            "_view_name": "LayoutView",
            "grid_template_rows": null,
            "right": null,
            "justify_content": null,
            "_view_module": "@jupyter-widgets/base",
            "overflow": null,
            "_model_module_version": "1.2.0",
            "_view_count": null,
            "flex_flow": null,
            "width": null,
            "min_width": null,
            "border": null,
            "align_items": null,
            "bottom": null,
            "_model_module": "@jupyter-widgets/base",
            "top": null,
            "grid_column": null,
            "overflow_y": null,
            "overflow_x": null,
            "grid_auto_flow": null,
            "grid_area": null,
            "grid_template_columns": null,
            "flex": null,
            "_model_name": "LayoutModel",
            "justify_items": null,
            "grid_row": null,
            "max_height": null,
            "align_content": null,
            "visibility": null,
            "align_self": null,
            "height": null,
            "min_height": null,
            "padding": null,
            "grid_auto_rows": null,
            "grid_gap": null,
            "max_width": null,
            "order": null,
            "_view_module_version": "1.2.0",
            "grid_template_areas": null,
            "object_position": null,
            "object_fit": null,
            "grid_auto_columns": null,
            "margin": null,
            "display": null,
            "left": null
          }
        },
        "e35faed5b6844c22b983b9c3f3048465": {
          "model_module": "@jupyter-widgets/controls",
          "model_name": "HTMLModel",
          "model_module_version": "1.5.0",
          "state": {
            "_view_name": "HTMLView",
            "style": "IPY_MODEL_a123116bf19e42328ddf7777414fb6a3",
            "_dom_classes": [],
            "description": "",
            "_model_name": "HTMLModel",
            "placeholder": "​",
            "_view_module": "@jupyter-widgets/controls",
            "_model_module_version": "1.5.0",
            "value": "100%",
            "_view_count": null,
            "_view_module_version": "1.5.0",
            "description_tooltip": null,
            "_model_module": "@jupyter-widgets/controls",
            "layout": "IPY_MODEL_2a46e7d2daeb4bd8bd4952d084179502"
          }
        },
        "84c1d768ba5247208fd97320ef48800c": {
          "model_module": "@jupyter-widgets/controls",
          "model_name": "FloatProgressModel",
          "model_module_version": "1.5.0",
          "state": {
            "_view_name": "ProgressView",
            "style": "IPY_MODEL_956328c535984d3c890f91a4e545eb37",
            "_dom_classes": [],
            "description": "",
            "_model_name": "FloatProgressModel",
            "bar_style": "success",
            "max": 2808811,
            "_view_module": "@jupyter-widgets/controls",
            "_model_module_version": "1.5.0",
            "value": 2808811,
            "_view_count": null,
            "_view_module_version": "1.5.0",
            "orientation": "horizontal",
            "min": 0,
            "description_tooltip": null,
            "_model_module": "@jupyter-widgets/controls",
            "layout": "IPY_MODEL_63acd6dce4d04badb98a99a5badb3eb2"
          }
        },
        "928148d3361a474882556bb4b04889e2": {
          "model_module": "@jupyter-widgets/controls",
          "model_name": "HTMLModel",
          "model_module_version": "1.5.0",
          "state": {
            "_view_name": "HTMLView",
            "style": "IPY_MODEL_c377ea1d0f0a4dd5b952ed536009391a",
            "_dom_classes": [],
            "description": "",
            "_model_name": "HTMLModel",
            "placeholder": "​",
            "_view_module": "@jupyter-widgets/controls",
            "_model_module_version": "1.5.0",
            "value": " 2808811/2808811 [00:17&lt;00:00, 176513.34it/s]",
            "_view_count": null,
            "_view_module_version": "1.5.0",
            "description_tooltip": null,
            "_model_module": "@jupyter-widgets/controls",
            "layout": "IPY_MODEL_ce77c35c61e747a29323ff95b0372f67"
          }
        },
        "a123116bf19e42328ddf7777414fb6a3": {
          "model_module": "@jupyter-widgets/controls",
          "model_name": "DescriptionStyleModel",
          "model_module_version": "1.5.0",
          "state": {
            "_view_name": "StyleView",
            "_model_name": "DescriptionStyleModel",
            "description_width": "",
            "_view_module": "@jupyter-widgets/base",
            "_model_module_version": "1.5.0",
            "_view_count": null,
            "_view_module_version": "1.2.0",
            "_model_module": "@jupyter-widgets/controls"
          }
        },
        "2a46e7d2daeb4bd8bd4952d084179502": {
          "model_module": "@jupyter-widgets/base",
          "model_name": "LayoutModel",
          "model_module_version": "1.2.0",
          "state": {
            "_view_name": "LayoutView",
            "grid_template_rows": null,
            "right": null,
            "justify_content": null,
            "_view_module": "@jupyter-widgets/base",
            "overflow": null,
            "_model_module_version": "1.2.0",
            "_view_count": null,
            "flex_flow": null,
            "width": null,
            "min_width": null,
            "border": null,
            "align_items": null,
            "bottom": null,
            "_model_module": "@jupyter-widgets/base",
            "top": null,
            "grid_column": null,
            "overflow_y": null,
            "overflow_x": null,
            "grid_auto_flow": null,
            "grid_area": null,
            "grid_template_columns": null,
            "flex": null,
            "_model_name": "LayoutModel",
            "justify_items": null,
            "grid_row": null,
            "max_height": null,
            "align_content": null,
            "visibility": null,
            "align_self": null,
            "height": null,
            "min_height": null,
            "padding": null,
            "grid_auto_rows": null,
            "grid_gap": null,
            "max_width": null,
            "order": null,
            "_view_module_version": "1.2.0",
            "grid_template_areas": null,
            "object_position": null,
            "object_fit": null,
            "grid_auto_columns": null,
            "margin": null,
            "display": null,
            "left": null
          }
        },
        "956328c535984d3c890f91a4e545eb37": {
          "model_module": "@jupyter-widgets/controls",
          "model_name": "ProgressStyleModel",
          "model_module_version": "1.5.0",
          "state": {
            "_view_name": "StyleView",
            "_model_name": "ProgressStyleModel",
            "description_width": "",
            "_view_module": "@jupyter-widgets/base",
            "_model_module_version": "1.5.0",
            "_view_count": null,
            "_view_module_version": "1.2.0",
            "bar_color": null,
            "_model_module": "@jupyter-widgets/controls"
          }
        },
        "63acd6dce4d04badb98a99a5badb3eb2": {
          "model_module": "@jupyter-widgets/base",
          "model_name": "LayoutModel",
          "model_module_version": "1.2.0",
          "state": {
            "_view_name": "LayoutView",
            "grid_template_rows": null,
            "right": null,
            "justify_content": null,
            "_view_module": "@jupyter-widgets/base",
            "overflow": null,
            "_model_module_version": "1.2.0",
            "_view_count": null,
            "flex_flow": null,
            "width": null,
            "min_width": null,
            "border": null,
            "align_items": null,
            "bottom": null,
            "_model_module": "@jupyter-widgets/base",
            "top": null,
            "grid_column": null,
            "overflow_y": null,
            "overflow_x": null,
            "grid_auto_flow": null,
            "grid_area": null,
            "grid_template_columns": null,
            "flex": null,
            "_model_name": "LayoutModel",
            "justify_items": null,
            "grid_row": null,
            "max_height": null,
            "align_content": null,
            "visibility": null,
            "align_self": null,
            "height": null,
            "min_height": null,
            "padding": null,
            "grid_auto_rows": null,
            "grid_gap": null,
            "max_width": null,
            "order": null,
            "_view_module_version": "1.2.0",
            "grid_template_areas": null,
            "object_position": null,
            "object_fit": null,
            "grid_auto_columns": null,
            "margin": null,
            "display": null,
            "left": null
          }
        },
        "c377ea1d0f0a4dd5b952ed536009391a": {
          "model_module": "@jupyter-widgets/controls",
          "model_name": "DescriptionStyleModel",
          "model_module_version": "1.5.0",
          "state": {
            "_view_name": "StyleView",
            "_model_name": "DescriptionStyleModel",
            "description_width": "",
            "_view_module": "@jupyter-widgets/base",
            "_model_module_version": "1.5.0",
            "_view_count": null,
            "_view_module_version": "1.2.0",
            "_model_module": "@jupyter-widgets/controls"
          }
        },
        "ce77c35c61e747a29323ff95b0372f67": {
          "model_module": "@jupyter-widgets/base",
          "model_name": "LayoutModel",
          "model_module_version": "1.2.0",
          "state": {
            "_view_name": "LayoutView",
            "grid_template_rows": null,
            "right": null,
            "justify_content": null,
            "_view_module": "@jupyter-widgets/base",
            "overflow": null,
            "_model_module_version": "1.2.0",
            "_view_count": null,
            "flex_flow": null,
            "width": null,
            "min_width": null,
            "border": null,
            "align_items": null,
            "bottom": null,
            "_model_module": "@jupyter-widgets/base",
            "top": null,
            "grid_column": null,
            "overflow_y": null,
            "overflow_x": null,
            "grid_auto_flow": null,
            "grid_area": null,
            "grid_template_columns": null,
            "flex": null,
            "_model_name": "LayoutModel",
            "justify_items": null,
            "grid_row": null,
            "max_height": null,
            "align_content": null,
            "visibility": null,
            "align_self": null,
            "height": null,
            "min_height": null,
            "padding": null,
            "grid_auto_rows": null,
            "grid_gap": null,
            "max_width": null,
            "order": null,
            "_view_module_version": "1.2.0",
            "grid_template_areas": null,
            "object_position": null,
            "object_fit": null,
            "grid_auto_columns": null,
            "margin": null,
            "display": null,
            "left": null
          }
        },
        "c1f5c901ccec41d195c9bc8a309406f2": {
          "model_module": "@jupyter-widgets/controls",
          "model_name": "HBoxModel",
          "model_module_version": "1.5.0",
          "state": {
            "_view_name": "HBoxView",
            "_dom_classes": [],
            "_model_name": "HBoxModel",
            "_view_module": "@jupyter-widgets/controls",
            "_model_module_version": "1.5.0",
            "_view_count": null,
            "_view_module_version": "1.5.0",
            "box_style": "",
            "layout": "IPY_MODEL_3b5fcd1ea9b04db6891711ea87ae8836",
            "_model_module": "@jupyter-widgets/controls",
            "children": [
              "IPY_MODEL_13a4a0083d5a40cebf8035b0bd2607e3",
              "IPY_MODEL_0986c83da7454c908232f6262fa49b26",
              "IPY_MODEL_ad4f974a5294467eb49e7fd0cbbddbb6"
            ]
          }
        },
        "3b5fcd1ea9b04db6891711ea87ae8836": {
          "model_module": "@jupyter-widgets/base",
          "model_name": "LayoutModel",
          "model_module_version": "1.2.0",
          "state": {
            "_view_name": "LayoutView",
            "grid_template_rows": null,
            "right": null,
            "justify_content": null,
            "_view_module": "@jupyter-widgets/base",
            "overflow": null,
            "_model_module_version": "1.2.0",
            "_view_count": null,
            "flex_flow": null,
            "width": null,
            "min_width": null,
            "border": null,
            "align_items": null,
            "bottom": null,
            "_model_module": "@jupyter-widgets/base",
            "top": null,
            "grid_column": null,
            "overflow_y": null,
            "overflow_x": null,
            "grid_auto_flow": null,
            "grid_area": null,
            "grid_template_columns": null,
            "flex": null,
            "_model_name": "LayoutModel",
            "justify_items": null,
            "grid_row": null,
            "max_height": null,
            "align_content": null,
            "visibility": null,
            "align_self": null,
            "height": null,
            "min_height": null,
            "padding": null,
            "grid_auto_rows": null,
            "grid_gap": null,
            "max_width": null,
            "order": null,
            "_view_module_version": "1.2.0",
            "grid_template_areas": null,
            "object_position": null,
            "object_fit": null,
            "grid_auto_columns": null,
            "margin": null,
            "display": null,
            "left": null
          }
        },
        "13a4a0083d5a40cebf8035b0bd2607e3": {
          "model_module": "@jupyter-widgets/controls",
          "model_name": "HTMLModel",
          "model_module_version": "1.5.0",
          "state": {
            "_view_name": "HTMLView",
            "style": "IPY_MODEL_277c047643ad42408625c84b020430f5",
            "_dom_classes": [],
            "description": "",
            "_model_name": "HTMLModel",
            "placeholder": "​",
            "_view_module": "@jupyter-widgets/controls",
            "_model_module_version": "1.5.0",
            "value": "Testing: 100%",
            "_view_count": null,
            "_view_module_version": "1.5.0",
            "description_tooltip": null,
            "_model_module": "@jupyter-widgets/controls",
            "layout": "IPY_MODEL_f7811ce5713a45a98818858193d8b9fb"
          }
        },
        "0986c83da7454c908232f6262fa49b26": {
          "model_module": "@jupyter-widgets/controls",
          "model_name": "FloatProgressModel",
          "model_module_version": "1.5.0",
          "state": {
            "_view_name": "ProgressView",
            "style": "IPY_MODEL_78ff3668dc0347ae90359887c6586189",
            "_dom_classes": [],
            "description": "",
            "_model_name": "FloatProgressModel",
            "bar_style": "success",
            "max": 6214,
            "_view_module": "@jupyter-widgets/controls",
            "_model_module_version": "1.5.0",
            "value": 6214,
            "_view_count": null,
            "_view_module_version": "1.5.0",
            "orientation": "horizontal",
            "min": 0,
            "description_tooltip": null,
            "_model_module": "@jupyter-widgets/controls",
            "layout": "IPY_MODEL_ff8200f92e20469096caa3db2f2a28ad"
          }
        },
        "ad4f974a5294467eb49e7fd0cbbddbb6": {
          "model_module": "@jupyter-widgets/controls",
          "model_name": "HTMLModel",
          "model_module_version": "1.5.0",
          "state": {
            "_view_name": "HTMLView",
            "style": "IPY_MODEL_5eec4d21aafe49bdaa8c2b0ae639085c",
            "_dom_classes": [],
            "description": "",
            "_model_name": "HTMLModel",
            "placeholder": "​",
            "_view_module": "@jupyter-widgets/controls",
            "_model_module_version": "1.5.0",
            "value": " 6214/6214 [00:00&lt;00:00, 10710.27it/s]",
            "_view_count": null,
            "_view_module_version": "1.5.0",
            "description_tooltip": null,
            "_model_module": "@jupyter-widgets/controls",
            "layout": "IPY_MODEL_2626c8a7f8414f168f74664cc5c7c89d"
          }
        },
        "277c047643ad42408625c84b020430f5": {
          "model_module": "@jupyter-widgets/controls",
          "model_name": "DescriptionStyleModel",
          "model_module_version": "1.5.0",
          "state": {
            "_view_name": "StyleView",
            "_model_name": "DescriptionStyleModel",
            "description_width": "",
            "_view_module": "@jupyter-widgets/base",
            "_model_module_version": "1.5.0",
            "_view_count": null,
            "_view_module_version": "1.2.0",
            "_model_module": "@jupyter-widgets/controls"
          }
        },
        "f7811ce5713a45a98818858193d8b9fb": {
          "model_module": "@jupyter-widgets/base",
          "model_name": "LayoutModel",
          "model_module_version": "1.2.0",
          "state": {
            "_view_name": "LayoutView",
            "grid_template_rows": null,
            "right": null,
            "justify_content": null,
            "_view_module": "@jupyter-widgets/base",
            "overflow": null,
            "_model_module_version": "1.2.0",
            "_view_count": null,
            "flex_flow": null,
            "width": null,
            "min_width": null,
            "border": null,
            "align_items": null,
            "bottom": null,
            "_model_module": "@jupyter-widgets/base",
            "top": null,
            "grid_column": null,
            "overflow_y": null,
            "overflow_x": null,
            "grid_auto_flow": null,
            "grid_area": null,
            "grid_template_columns": null,
            "flex": null,
            "_model_name": "LayoutModel",
            "justify_items": null,
            "grid_row": null,
            "max_height": null,
            "align_content": null,
            "visibility": null,
            "align_self": null,
            "height": null,
            "min_height": null,
            "padding": null,
            "grid_auto_rows": null,
            "grid_gap": null,
            "max_width": null,
            "order": null,
            "_view_module_version": "1.2.0",
            "grid_template_areas": null,
            "object_position": null,
            "object_fit": null,
            "grid_auto_columns": null,
            "margin": null,
            "display": null,
            "left": null
          }
        },
        "78ff3668dc0347ae90359887c6586189": {
          "model_module": "@jupyter-widgets/controls",
          "model_name": "ProgressStyleModel",
          "model_module_version": "1.5.0",
          "state": {
            "_view_name": "StyleView",
            "_model_name": "ProgressStyleModel",
            "description_width": "",
            "_view_module": "@jupyter-widgets/base",
            "_model_module_version": "1.5.0",
            "_view_count": null,
            "_view_module_version": "1.2.0",
            "bar_color": null,
            "_model_module": "@jupyter-widgets/controls"
          }
        },
        "ff8200f92e20469096caa3db2f2a28ad": {
          "model_module": "@jupyter-widgets/base",
          "model_name": "LayoutModel",
          "model_module_version": "1.2.0",
          "state": {
            "_view_name": "LayoutView",
            "grid_template_rows": null,
            "right": null,
            "justify_content": null,
            "_view_module": "@jupyter-widgets/base",
            "overflow": null,
            "_model_module_version": "1.2.0",
            "_view_count": null,
            "flex_flow": null,
            "width": null,
            "min_width": null,
            "border": null,
            "align_items": null,
            "bottom": null,
            "_model_module": "@jupyter-widgets/base",
            "top": null,
            "grid_column": null,
            "overflow_y": null,
            "overflow_x": null,
            "grid_auto_flow": null,
            "grid_area": null,
            "grid_template_columns": null,
            "flex": null,
            "_model_name": "LayoutModel",
            "justify_items": null,
            "grid_row": null,
            "max_height": null,
            "align_content": null,
            "visibility": null,
            "align_self": null,
            "height": null,
            "min_height": null,
            "padding": null,
            "grid_auto_rows": null,
            "grid_gap": null,
            "max_width": null,
            "order": null,
            "_view_module_version": "1.2.0",
            "grid_template_areas": null,
            "object_position": null,
            "object_fit": null,
            "grid_auto_columns": null,
            "margin": null,
            "display": null,
            "left": null
          }
        },
        "5eec4d21aafe49bdaa8c2b0ae639085c": {
          "model_module": "@jupyter-widgets/controls",
          "model_name": "DescriptionStyleModel",
          "model_module_version": "1.5.0",
          "state": {
            "_view_name": "StyleView",
            "_model_name": "DescriptionStyleModel",
            "description_width": "",
            "_view_module": "@jupyter-widgets/base",
            "_model_module_version": "1.5.0",
            "_view_count": null,
            "_view_module_version": "1.2.0",
            "_model_module": "@jupyter-widgets/controls"
          }
        },
        "2626c8a7f8414f168f74664cc5c7c89d": {
          "model_module": "@jupyter-widgets/base",
          "model_name": "LayoutModel",
          "model_module_version": "1.2.0",
          "state": {
            "_view_name": "LayoutView",
            "grid_template_rows": null,
            "right": null,
            "justify_content": null,
            "_view_module": "@jupyter-widgets/base",
            "overflow": null,
            "_model_module_version": "1.2.0",
            "_view_count": null,
            "flex_flow": null,
            "width": null,
            "min_width": null,
            "border": null,
            "align_items": null,
            "bottom": null,
            "_model_module": "@jupyter-widgets/base",
            "top": null,
            "grid_column": null,
            "overflow_y": null,
            "overflow_x": null,
            "grid_auto_flow": null,
            "grid_area": null,
            "grid_template_columns": null,
            "flex": null,
            "_model_name": "LayoutModel",
            "justify_items": null,
            "grid_row": null,
            "max_height": null,
            "align_content": null,
            "visibility": null,
            "align_self": null,
            "height": null,
            "min_height": null,
            "padding": null,
            "grid_auto_rows": null,
            "grid_gap": null,
            "max_width": null,
            "order": null,
            "_view_module_version": "1.2.0",
            "grid_template_areas": null,
            "object_position": null,
            "object_fit": null,
            "grid_auto_columns": null,
            "margin": null,
            "display": null,
            "left": null
          }
        },
        "be73291e7b30457b9cf61a925dad8c4d": {
          "model_module": "@jupyter-widgets/controls",
          "model_name": "HBoxModel",
          "model_module_version": "1.5.0",
          "state": {
            "_view_name": "HBoxView",
            "_dom_classes": [],
            "_model_name": "HBoxModel",
            "_view_module": "@jupyter-widgets/controls",
            "_model_module_version": "1.5.0",
            "_view_count": null,
            "_view_module_version": "1.5.0",
            "box_style": "",
            "layout": "IPY_MODEL_b0b59901caf5420b90e257fd6a7d8835",
            "_model_module": "@jupyter-widgets/controls",
            "children": [
              "IPY_MODEL_563cb097908b4c60a6f43ff63625eb02",
              "IPY_MODEL_92e30808f4924d0d816e1f2c1d56064b",
              "IPY_MODEL_c973c04e1838409c8ed41cd9f65ff18e"
            ]
          }
        },
        "b0b59901caf5420b90e257fd6a7d8835": {
          "model_module": "@jupyter-widgets/base",
          "model_name": "LayoutModel",
          "model_module_version": "1.2.0",
          "state": {
            "_view_name": "LayoutView",
            "grid_template_rows": null,
            "right": null,
            "justify_content": null,
            "_view_module": "@jupyter-widgets/base",
            "overflow": null,
            "_model_module_version": "1.2.0",
            "_view_count": null,
            "flex_flow": null,
            "width": null,
            "min_width": null,
            "border": null,
            "align_items": null,
            "bottom": null,
            "_model_module": "@jupyter-widgets/base",
            "top": null,
            "grid_column": null,
            "overflow_y": null,
            "overflow_x": null,
            "grid_auto_flow": null,
            "grid_area": null,
            "grid_template_columns": null,
            "flex": null,
            "_model_name": "LayoutModel",
            "justify_items": null,
            "grid_row": null,
            "max_height": null,
            "align_content": null,
            "visibility": null,
            "align_self": null,
            "height": null,
            "min_height": null,
            "padding": null,
            "grid_auto_rows": null,
            "grid_gap": null,
            "max_width": null,
            "order": null,
            "_view_module_version": "1.2.0",
            "grid_template_areas": null,
            "object_position": null,
            "object_fit": null,
            "grid_auto_columns": null,
            "margin": null,
            "display": null,
            "left": null
          }
        },
        "563cb097908b4c60a6f43ff63625eb02": {
          "model_module": "@jupyter-widgets/controls",
          "model_name": "HTMLModel",
          "model_module_version": "1.5.0",
          "state": {
            "_view_name": "HTMLView",
            "style": "IPY_MODEL_2ed7e33384054fc687ceeb7230e62385",
            "_dom_classes": [],
            "description": "",
            "_model_name": "HTMLModel",
            "placeholder": "​",
            "_view_module": "@jupyter-widgets/controls",
            "_model_module_version": "1.5.0",
            "value": "Testing: 100%",
            "_view_count": null,
            "_view_module_version": "1.5.0",
            "description_tooltip": null,
            "_model_module": "@jupyter-widgets/controls",
            "layout": "IPY_MODEL_74cd4a1caa174f9ea99db3eb180f46d6"
          }
        },
        "92e30808f4924d0d816e1f2c1d56064b": {
          "model_module": "@jupyter-widgets/controls",
          "model_name": "FloatProgressModel",
          "model_module_version": "1.5.0",
          "state": {
            "_view_name": "ProgressView",
            "style": "IPY_MODEL_86509ade06264cf0821981cadcf28c32",
            "_dom_classes": [],
            "description": "",
            "_model_name": "FloatProgressModel",
            "bar_style": "success",
            "max": 777,
            "_view_module": "@jupyter-widgets/controls",
            "_model_module_version": "1.5.0",
            "value": 777,
            "_view_count": null,
            "_view_module_version": "1.5.0",
            "orientation": "horizontal",
            "min": 0,
            "description_tooltip": null,
            "_model_module": "@jupyter-widgets/controls",
            "layout": "IPY_MODEL_129c136509d14aa6bc6819c10a99125c"
          }
        },
        "c973c04e1838409c8ed41cd9f65ff18e": {
          "model_module": "@jupyter-widgets/controls",
          "model_name": "HTMLModel",
          "model_module_version": "1.5.0",
          "state": {
            "_view_name": "HTMLView",
            "style": "IPY_MODEL_0feeb8cd2f7f45ac9bb0b916710dab33",
            "_dom_classes": [],
            "description": "",
            "_model_name": "HTMLModel",
            "placeholder": "​",
            "_view_module": "@jupyter-widgets/controls",
            "_model_module_version": "1.5.0",
            "value": " 777/777 [00:00&lt;00:00, 2550.21it/s]",
            "_view_count": null,
            "_view_module_version": "1.5.0",
            "description_tooltip": null,
            "_model_module": "@jupyter-widgets/controls",
            "layout": "IPY_MODEL_a3fb10ca64834776be0eafd30cce4140"
          }
        },
        "2ed7e33384054fc687ceeb7230e62385": {
          "model_module": "@jupyter-widgets/controls",
          "model_name": "DescriptionStyleModel",
          "model_module_version": "1.5.0",
          "state": {
            "_view_name": "StyleView",
            "_model_name": "DescriptionStyleModel",
            "description_width": "",
            "_view_module": "@jupyter-widgets/base",
            "_model_module_version": "1.5.0",
            "_view_count": null,
            "_view_module_version": "1.2.0",
            "_model_module": "@jupyter-widgets/controls"
          }
        },
        "74cd4a1caa174f9ea99db3eb180f46d6": {
          "model_module": "@jupyter-widgets/base",
          "model_name": "LayoutModel",
          "model_module_version": "1.2.0",
          "state": {
            "_view_name": "LayoutView",
            "grid_template_rows": null,
            "right": null,
            "justify_content": null,
            "_view_module": "@jupyter-widgets/base",
            "overflow": null,
            "_model_module_version": "1.2.0",
            "_view_count": null,
            "flex_flow": null,
            "width": null,
            "min_width": null,
            "border": null,
            "align_items": null,
            "bottom": null,
            "_model_module": "@jupyter-widgets/base",
            "top": null,
            "grid_column": null,
            "overflow_y": null,
            "overflow_x": null,
            "grid_auto_flow": null,
            "grid_area": null,
            "grid_template_columns": null,
            "flex": null,
            "_model_name": "LayoutModel",
            "justify_items": null,
            "grid_row": null,
            "max_height": null,
            "align_content": null,
            "visibility": null,
            "align_self": null,
            "height": null,
            "min_height": null,
            "padding": null,
            "grid_auto_rows": null,
            "grid_gap": null,
            "max_width": null,
            "order": null,
            "_view_module_version": "1.2.0",
            "grid_template_areas": null,
            "object_position": null,
            "object_fit": null,
            "grid_auto_columns": null,
            "margin": null,
            "display": null,
            "left": null
          }
        },
        "86509ade06264cf0821981cadcf28c32": {
          "model_module": "@jupyter-widgets/controls",
          "model_name": "ProgressStyleModel",
          "model_module_version": "1.5.0",
          "state": {
            "_view_name": "StyleView",
            "_model_name": "ProgressStyleModel",
            "description_width": "",
            "_view_module": "@jupyter-widgets/base",
            "_model_module_version": "1.5.0",
            "_view_count": null,
            "_view_module_version": "1.2.0",
            "bar_color": null,
            "_model_module": "@jupyter-widgets/controls"
          }
        },
        "129c136509d14aa6bc6819c10a99125c": {
          "model_module": "@jupyter-widgets/base",
          "model_name": "LayoutModel",
          "model_module_version": "1.2.0",
          "state": {
            "_view_name": "LayoutView",
            "grid_template_rows": null,
            "right": null,
            "justify_content": null,
            "_view_module": "@jupyter-widgets/base",
            "overflow": null,
            "_model_module_version": "1.2.0",
            "_view_count": null,
            "flex_flow": null,
            "width": null,
            "min_width": null,
            "border": null,
            "align_items": null,
            "bottom": null,
            "_model_module": "@jupyter-widgets/base",
            "top": null,
            "grid_column": null,
            "overflow_y": null,
            "overflow_x": null,
            "grid_auto_flow": null,
            "grid_area": null,
            "grid_template_columns": null,
            "flex": null,
            "_model_name": "LayoutModel",
            "justify_items": null,
            "grid_row": null,
            "max_height": null,
            "align_content": null,
            "visibility": null,
            "align_self": null,
            "height": null,
            "min_height": null,
            "padding": null,
            "grid_auto_rows": null,
            "grid_gap": null,
            "max_width": null,
            "order": null,
            "_view_module_version": "1.2.0",
            "grid_template_areas": null,
            "object_position": null,
            "object_fit": null,
            "grid_auto_columns": null,
            "margin": null,
            "display": null,
            "left": null
          }
        },
        "0feeb8cd2f7f45ac9bb0b916710dab33": {
          "model_module": "@jupyter-widgets/controls",
          "model_name": "DescriptionStyleModel",
          "model_module_version": "1.5.0",
          "state": {
            "_view_name": "StyleView",
            "_model_name": "DescriptionStyleModel",
            "description_width": "",
            "_view_module": "@jupyter-widgets/base",
            "_model_module_version": "1.5.0",
            "_view_count": null,
            "_view_module_version": "1.2.0",
            "_model_module": "@jupyter-widgets/controls"
          }
        },
        "a3fb10ca64834776be0eafd30cce4140": {
          "model_module": "@jupyter-widgets/base",
          "model_name": "LayoutModel",
          "model_module_version": "1.2.0",
          "state": {
            "_view_name": "LayoutView",
            "grid_template_rows": null,
            "right": null,
            "justify_content": null,
            "_view_module": "@jupyter-widgets/base",
            "overflow": null,
            "_model_module_version": "1.2.0",
            "_view_count": null,
            "flex_flow": null,
            "width": null,
            "min_width": null,
            "border": null,
            "align_items": null,
            "bottom": null,
            "_model_module": "@jupyter-widgets/base",
            "top": null,
            "grid_column": null,
            "overflow_y": null,
            "overflow_x": null,
            "grid_auto_flow": null,
            "grid_area": null,
            "grid_template_columns": null,
            "flex": null,
            "_model_name": "LayoutModel",
            "justify_items": null,
            "grid_row": null,
            "max_height": null,
            "align_content": null,
            "visibility": null,
            "align_self": null,
            "height": null,
            "min_height": null,
            "padding": null,
            "grid_auto_rows": null,
            "grid_gap": null,
            "max_width": null,
            "order": null,
            "_view_module_version": "1.2.0",
            "grid_template_areas": null,
            "object_position": null,
            "object_fit": null,
            "grid_auto_columns": null,
            "margin": null,
            "display": null,
            "left": null
          }
        },
        "bccb931d95664c8faaf87366ff58dcbe": {
          "model_module": "@jupyter-widgets/controls",
          "model_name": "HBoxModel",
          "model_module_version": "1.5.0",
          "state": {
            "_view_name": "HBoxView",
            "_dom_classes": [],
            "_model_name": "HBoxModel",
            "_view_module": "@jupyter-widgets/controls",
            "_model_module_version": "1.5.0",
            "_view_count": null,
            "_view_module_version": "1.5.0",
            "box_style": "",
            "layout": "IPY_MODEL_349007e9adde463ba47dfc26397bbbc9",
            "_model_module": "@jupyter-widgets/controls",
            "children": [
              "IPY_MODEL_5f906d685420488e9b8c91851fc04da5",
              "IPY_MODEL_6815a5dffda949b7b55f2a2e55193440",
              "IPY_MODEL_5cbca390870e41109f5a479ddeb500b5"
            ]
          }
        },
        "349007e9adde463ba47dfc26397bbbc9": {
          "model_module": "@jupyter-widgets/base",
          "model_name": "LayoutModel",
          "model_module_version": "1.2.0",
          "state": {
            "_view_name": "LayoutView",
            "grid_template_rows": null,
            "right": null,
            "justify_content": null,
            "_view_module": "@jupyter-widgets/base",
            "overflow": null,
            "_model_module_version": "1.2.0",
            "_view_count": null,
            "flex_flow": null,
            "width": null,
            "min_width": null,
            "border": null,
            "align_items": null,
            "bottom": null,
            "_model_module": "@jupyter-widgets/base",
            "top": null,
            "grid_column": null,
            "overflow_y": null,
            "overflow_x": null,
            "grid_auto_flow": null,
            "grid_area": null,
            "grid_template_columns": null,
            "flex": null,
            "_model_name": "LayoutModel",
            "justify_items": null,
            "grid_row": null,
            "max_height": null,
            "align_content": null,
            "visibility": null,
            "align_self": null,
            "height": null,
            "min_height": null,
            "padding": null,
            "grid_auto_rows": null,
            "grid_gap": null,
            "max_width": null,
            "order": null,
            "_view_module_version": "1.2.0",
            "grid_template_areas": null,
            "object_position": null,
            "object_fit": null,
            "grid_auto_columns": null,
            "margin": null,
            "display": null,
            "left": null
          }
        },
        "5f906d685420488e9b8c91851fc04da5": {
          "model_module": "@jupyter-widgets/controls",
          "model_name": "HTMLModel",
          "model_module_version": "1.5.0",
          "state": {
            "_view_name": "HTMLView",
            "style": "IPY_MODEL_e15ce55e184b4d3e9250e983ee545c0f",
            "_dom_classes": [],
            "description": "",
            "_model_name": "HTMLModel",
            "placeholder": "​",
            "_view_module": "@jupyter-widgets/controls",
            "_model_module_version": "1.5.0",
            "value": "Testing: 100%",
            "_view_count": null,
            "_view_module_version": "1.5.0",
            "description_tooltip": null,
            "_model_module": "@jupyter-widgets/controls",
            "layout": "IPY_MODEL_df6ff71f2b334526b8fe943916f9ee63"
          }
        },
        "6815a5dffda949b7b55f2a2e55193440": {
          "model_module": "@jupyter-widgets/controls",
          "model_name": "FloatProgressModel",
          "model_module_version": "1.5.0",
          "state": {
            "_view_name": "ProgressView",
            "style": "IPY_MODEL_2dd0126d63664a58a8e48ad4e326c048",
            "_dom_classes": [],
            "description": "",
            "_model_name": "FloatProgressModel",
            "bar_style": "success",
            "max": 776,
            "_view_module": "@jupyter-widgets/controls",
            "_model_module_version": "1.5.0",
            "value": 776,
            "_view_count": null,
            "_view_module_version": "1.5.0",
            "orientation": "horizontal",
            "min": 0,
            "description_tooltip": null,
            "_model_module": "@jupyter-widgets/controls",
            "layout": "IPY_MODEL_81bfa479e73740eb9b46a7e3eb62b570"
          }
        },
        "5cbca390870e41109f5a479ddeb500b5": {
          "model_module": "@jupyter-widgets/controls",
          "model_name": "HTMLModel",
          "model_module_version": "1.5.0",
          "state": {
            "_view_name": "HTMLView",
            "style": "IPY_MODEL_d52be53b6d7a47d3b9f6f3a79e1d32da",
            "_dom_classes": [],
            "description": "",
            "_model_name": "HTMLModel",
            "placeholder": "​",
            "_view_module": "@jupyter-widgets/controls",
            "_model_module_version": "1.5.0",
            "value": " 776/776 [00:00&lt;00:00, 2548.81it/s]",
            "_view_count": null,
            "_view_module_version": "1.5.0",
            "description_tooltip": null,
            "_model_module": "@jupyter-widgets/controls",
            "layout": "IPY_MODEL_46565d754e1a449ab1f7e4032df7a40b"
          }
        },
        "e15ce55e184b4d3e9250e983ee545c0f": {
          "model_module": "@jupyter-widgets/controls",
          "model_name": "DescriptionStyleModel",
          "model_module_version": "1.5.0",
          "state": {
            "_view_name": "StyleView",
            "_model_name": "DescriptionStyleModel",
            "description_width": "",
            "_view_module": "@jupyter-widgets/base",
            "_model_module_version": "1.5.0",
            "_view_count": null,
            "_view_module_version": "1.2.0",
            "_model_module": "@jupyter-widgets/controls"
          }
        },
        "df6ff71f2b334526b8fe943916f9ee63": {
          "model_module": "@jupyter-widgets/base",
          "model_name": "LayoutModel",
          "model_module_version": "1.2.0",
          "state": {
            "_view_name": "LayoutView",
            "grid_template_rows": null,
            "right": null,
            "justify_content": null,
            "_view_module": "@jupyter-widgets/base",
            "overflow": null,
            "_model_module_version": "1.2.0",
            "_view_count": null,
            "flex_flow": null,
            "width": null,
            "min_width": null,
            "border": null,
            "align_items": null,
            "bottom": null,
            "_model_module": "@jupyter-widgets/base",
            "top": null,
            "grid_column": null,
            "overflow_y": null,
            "overflow_x": null,
            "grid_auto_flow": null,
            "grid_area": null,
            "grid_template_columns": null,
            "flex": null,
            "_model_name": "LayoutModel",
            "justify_items": null,
            "grid_row": null,
            "max_height": null,
            "align_content": null,
            "visibility": null,
            "align_self": null,
            "height": null,
            "min_height": null,
            "padding": null,
            "grid_auto_rows": null,
            "grid_gap": null,
            "max_width": null,
            "order": null,
            "_view_module_version": "1.2.0",
            "grid_template_areas": null,
            "object_position": null,
            "object_fit": null,
            "grid_auto_columns": null,
            "margin": null,
            "display": null,
            "left": null
          }
        },
        "2dd0126d63664a58a8e48ad4e326c048": {
          "model_module": "@jupyter-widgets/controls",
          "model_name": "ProgressStyleModel",
          "model_module_version": "1.5.0",
          "state": {
            "_view_name": "StyleView",
            "_model_name": "ProgressStyleModel",
            "description_width": "",
            "_view_module": "@jupyter-widgets/base",
            "_model_module_version": "1.5.0",
            "_view_count": null,
            "_view_module_version": "1.2.0",
            "bar_color": null,
            "_model_module": "@jupyter-widgets/controls"
          }
        },
        "81bfa479e73740eb9b46a7e3eb62b570": {
          "model_module": "@jupyter-widgets/base",
          "model_name": "LayoutModel",
          "model_module_version": "1.2.0",
          "state": {
            "_view_name": "LayoutView",
            "grid_template_rows": null,
            "right": null,
            "justify_content": null,
            "_view_module": "@jupyter-widgets/base",
            "overflow": null,
            "_model_module_version": "1.2.0",
            "_view_count": null,
            "flex_flow": null,
            "width": null,
            "min_width": null,
            "border": null,
            "align_items": null,
            "bottom": null,
            "_model_module": "@jupyter-widgets/base",
            "top": null,
            "grid_column": null,
            "overflow_y": null,
            "overflow_x": null,
            "grid_auto_flow": null,
            "grid_area": null,
            "grid_template_columns": null,
            "flex": null,
            "_model_name": "LayoutModel",
            "justify_items": null,
            "grid_row": null,
            "max_height": null,
            "align_content": null,
            "visibility": null,
            "align_self": null,
            "height": null,
            "min_height": null,
            "padding": null,
            "grid_auto_rows": null,
            "grid_gap": null,
            "max_width": null,
            "order": null,
            "_view_module_version": "1.2.0",
            "grid_template_areas": null,
            "object_position": null,
            "object_fit": null,
            "grid_auto_columns": null,
            "margin": null,
            "display": null,
            "left": null
          }
        },
        "d52be53b6d7a47d3b9f6f3a79e1d32da": {
          "model_module": "@jupyter-widgets/controls",
          "model_name": "DescriptionStyleModel",
          "model_module_version": "1.5.0",
          "state": {
            "_view_name": "StyleView",
            "_model_name": "DescriptionStyleModel",
            "description_width": "",
            "_view_module": "@jupyter-widgets/base",
            "_model_module_version": "1.5.0",
            "_view_count": null,
            "_view_module_version": "1.2.0",
            "_model_module": "@jupyter-widgets/controls"
          }
        },
        "46565d754e1a449ab1f7e4032df7a40b": {
          "model_module": "@jupyter-widgets/base",
          "model_name": "LayoutModel",
          "model_module_version": "1.2.0",
          "state": {
            "_view_name": "LayoutView",
            "grid_template_rows": null,
            "right": null,
            "justify_content": null,
            "_view_module": "@jupyter-widgets/base",
            "overflow": null,
            "_model_module_version": "1.2.0",
            "_view_count": null,
            "flex_flow": null,
            "width": null,
            "min_width": null,
            "border": null,
            "align_items": null,
            "bottom": null,
            "_model_module": "@jupyter-widgets/base",
            "top": null,
            "grid_column": null,
            "overflow_y": null,
            "overflow_x": null,
            "grid_auto_flow": null,
            "grid_area": null,
            "grid_template_columns": null,
            "flex": null,
            "_model_name": "LayoutModel",
            "justify_items": null,
            "grid_row": null,
            "max_height": null,
            "align_content": null,
            "visibility": null,
            "align_self": null,
            "height": null,
            "min_height": null,
            "padding": null,
            "grid_auto_rows": null,
            "grid_gap": null,
            "max_width": null,
            "order": null,
            "_view_module_version": "1.2.0",
            "grid_template_areas": null,
            "object_position": null,
            "object_fit": null,
            "grid_auto_columns": null,
            "margin": null,
            "display": null,
            "left": null
          }
        },
        "817f18f4ef4a4a9294f146f9b7aa335d": {
          "model_module": "@jupyter-widgets/controls",
          "model_name": "HBoxModel",
          "model_module_version": "1.5.0",
          "state": {
            "_view_name": "HBoxView",
            "_dom_classes": [],
            "_model_name": "HBoxModel",
            "_view_module": "@jupyter-widgets/controls",
            "_model_module_version": "1.5.0",
            "_view_count": null,
            "_view_module_version": "1.5.0",
            "box_style": "",
            "layout": "IPY_MODEL_f6a21275bd234270ad05920766b63e6d",
            "_model_module": "@jupyter-widgets/controls",
            "children": [
              "IPY_MODEL_d445719b64db49afa28462b888bfca5e",
              "IPY_MODEL_719e30137b704c76bf607a16f07f80b5",
              "IPY_MODEL_15f3b89cedb342e0a1ae5fc047eb1198"
            ]
          }
        },
        "f6a21275bd234270ad05920766b63e6d": {
          "model_module": "@jupyter-widgets/base",
          "model_name": "LayoutModel",
          "model_module_version": "1.2.0",
          "state": {
            "_view_name": "LayoutView",
            "grid_template_rows": null,
            "right": null,
            "justify_content": null,
            "_view_module": "@jupyter-widgets/base",
            "overflow": null,
            "_model_module_version": "1.2.0",
            "_view_count": null,
            "flex_flow": null,
            "width": null,
            "min_width": null,
            "border": null,
            "align_items": null,
            "bottom": null,
            "_model_module": "@jupyter-widgets/base",
            "top": null,
            "grid_column": null,
            "overflow_y": null,
            "overflow_x": null,
            "grid_auto_flow": null,
            "grid_area": null,
            "grid_template_columns": null,
            "flex": null,
            "_model_name": "LayoutModel",
            "justify_items": null,
            "grid_row": null,
            "max_height": null,
            "align_content": null,
            "visibility": null,
            "align_self": null,
            "height": null,
            "min_height": null,
            "padding": null,
            "grid_auto_rows": null,
            "grid_gap": null,
            "max_width": null,
            "order": null,
            "_view_module_version": "1.2.0",
            "grid_template_areas": null,
            "object_position": null,
            "object_fit": null,
            "grid_auto_columns": null,
            "margin": null,
            "display": null,
            "left": null
          }
        },
        "d445719b64db49afa28462b888bfca5e": {
          "model_module": "@jupyter-widgets/controls",
          "model_name": "HTMLModel",
          "model_module_version": "1.5.0",
          "state": {
            "_view_name": "HTMLView",
            "style": "IPY_MODEL_a5f807939d654966b22a2db8562b2b61",
            "_dom_classes": [],
            "description": "",
            "_model_name": "HTMLModel",
            "placeholder": "​",
            "_view_module": "@jupyter-widgets/controls",
            "_model_module_version": "1.5.0",
            "value": "Train: ",
            "_view_count": null,
            "_view_module_version": "1.5.0",
            "description_tooltip": null,
            "_model_module": "@jupyter-widgets/controls",
            "layout": "IPY_MODEL_0d8cc45fc83546ea8b33fc49d14745dc"
          }
        },
        "719e30137b704c76bf607a16f07f80b5": {
          "model_module": "@jupyter-widgets/controls",
          "model_name": "FloatProgressModel",
          "model_module_version": "1.5.0",
          "state": {
            "_view_name": "ProgressView",
            "style": "IPY_MODEL_96b9325b6f614d5782a3491e28d3ef1a",
            "_dom_classes": [],
            "description": "",
            "_model_name": "FloatProgressModel",
            "bar_style": "success",
            "max": 97,
            "_view_module": "@jupyter-widgets/controls",
            "_model_module_version": "1.5.0",
            "value": 97,
            "_view_count": null,
            "_view_module_version": "1.5.0",
            "orientation": "horizontal",
            "min": 0,
            "description_tooltip": null,
            "_model_module": "@jupyter-widgets/controls",
            "layout": "IPY_MODEL_ef66900b6c0749edb28276363d8f4841"
          }
        },
        "15f3b89cedb342e0a1ae5fc047eb1198": {
          "model_module": "@jupyter-widgets/controls",
          "model_name": "HTMLModel",
          "model_module_version": "1.5.0",
          "state": {
            "_view_name": "HTMLView",
            "style": "IPY_MODEL_42445e2d39754ac6b293ea92d91475f7",
            "_dom_classes": [],
            "description": "",
            "_model_name": "HTMLModel",
            "placeholder": "​",
            "_view_module": "@jupyter-widgets/controls",
            "_model_module_version": "1.5.0",
            "value": " 98/? [00:22&lt;00:00,  4.57it/s, loss=10.2, perplexity=2.81e+4]",
            "_view_count": null,
            "_view_module_version": "1.5.0",
            "description_tooltip": null,
            "_model_module": "@jupyter-widgets/controls",
            "layout": "IPY_MODEL_b4f83b5ee46544ea8d4c3828cca0711d"
          }
        },
        "a5f807939d654966b22a2db8562b2b61": {
          "model_module": "@jupyter-widgets/controls",
          "model_name": "DescriptionStyleModel",
          "model_module_version": "1.5.0",
          "state": {
            "_view_name": "StyleView",
            "_model_name": "DescriptionStyleModel",
            "description_width": "",
            "_view_module": "@jupyter-widgets/base",
            "_model_module_version": "1.5.0",
            "_view_count": null,
            "_view_module_version": "1.2.0",
            "_model_module": "@jupyter-widgets/controls"
          }
        },
        "0d8cc45fc83546ea8b33fc49d14745dc": {
          "model_module": "@jupyter-widgets/base",
          "model_name": "LayoutModel",
          "model_module_version": "1.2.0",
          "state": {
            "_view_name": "LayoutView",
            "grid_template_rows": null,
            "right": null,
            "justify_content": null,
            "_view_module": "@jupyter-widgets/base",
            "overflow": null,
            "_model_module_version": "1.2.0",
            "_view_count": null,
            "flex_flow": null,
            "width": null,
            "min_width": null,
            "border": null,
            "align_items": null,
            "bottom": null,
            "_model_module": "@jupyter-widgets/base",
            "top": null,
            "grid_column": null,
            "overflow_y": null,
            "overflow_x": null,
            "grid_auto_flow": null,
            "grid_area": null,
            "grid_template_columns": null,
            "flex": null,
            "_model_name": "LayoutModel",
            "justify_items": null,
            "grid_row": null,
            "max_height": null,
            "align_content": null,
            "visibility": null,
            "align_self": null,
            "height": null,
            "min_height": null,
            "padding": null,
            "grid_auto_rows": null,
            "grid_gap": null,
            "max_width": null,
            "order": null,
            "_view_module_version": "1.2.0",
            "grid_template_areas": null,
            "object_position": null,
            "object_fit": null,
            "grid_auto_columns": null,
            "margin": null,
            "display": null,
            "left": null
          }
        },
        "96b9325b6f614d5782a3491e28d3ef1a": {
          "model_module": "@jupyter-widgets/controls",
          "model_name": "ProgressStyleModel",
          "model_module_version": "1.5.0",
          "state": {
            "_view_name": "StyleView",
            "_model_name": "ProgressStyleModel",
            "description_width": "",
            "_view_module": "@jupyter-widgets/base",
            "_model_module_version": "1.5.0",
            "_view_count": null,
            "_view_module_version": "1.2.0",
            "bar_color": null,
            "_model_module": "@jupyter-widgets/controls"
          }
        },
        "ef66900b6c0749edb28276363d8f4841": {
          "model_module": "@jupyter-widgets/base",
          "model_name": "LayoutModel",
          "model_module_version": "1.2.0",
          "state": {
            "_view_name": "LayoutView",
            "grid_template_rows": null,
            "right": null,
            "justify_content": null,
            "_view_module": "@jupyter-widgets/base",
            "overflow": null,
            "_model_module_version": "1.2.0",
            "_view_count": null,
            "flex_flow": null,
            "width": null,
            "min_width": null,
            "border": null,
            "align_items": null,
            "bottom": null,
            "_model_module": "@jupyter-widgets/base",
            "top": null,
            "grid_column": null,
            "overflow_y": null,
            "overflow_x": null,
            "grid_auto_flow": null,
            "grid_area": null,
            "grid_template_columns": null,
            "flex": null,
            "_model_name": "LayoutModel",
            "justify_items": null,
            "grid_row": null,
            "max_height": null,
            "align_content": null,
            "visibility": null,
            "align_self": null,
            "height": null,
            "min_height": null,
            "padding": null,
            "grid_auto_rows": null,
            "grid_gap": null,
            "max_width": null,
            "order": null,
            "_view_module_version": "1.2.0",
            "grid_template_areas": null,
            "object_position": null,
            "object_fit": null,
            "grid_auto_columns": null,
            "margin": null,
            "display": null,
            "left": null
          }
        },
        "42445e2d39754ac6b293ea92d91475f7": {
          "model_module": "@jupyter-widgets/controls",
          "model_name": "DescriptionStyleModel",
          "model_module_version": "1.5.0",
          "state": {
            "_view_name": "StyleView",
            "_model_name": "DescriptionStyleModel",
            "description_width": "",
            "_view_module": "@jupyter-widgets/base",
            "_model_module_version": "1.5.0",
            "_view_count": null,
            "_view_module_version": "1.2.0",
            "_model_module": "@jupyter-widgets/controls"
          }
        },
        "b4f83b5ee46544ea8d4c3828cca0711d": {
          "model_module": "@jupyter-widgets/base",
          "model_name": "LayoutModel",
          "model_module_version": "1.2.0",
          "state": {
            "_view_name": "LayoutView",
            "grid_template_rows": null,
            "right": null,
            "justify_content": null,
            "_view_module": "@jupyter-widgets/base",
            "overflow": null,
            "_model_module_version": "1.2.0",
            "_view_count": null,
            "flex_flow": null,
            "width": null,
            "min_width": null,
            "border": null,
            "align_items": null,
            "bottom": null,
            "_model_module": "@jupyter-widgets/base",
            "top": null,
            "grid_column": null,
            "overflow_y": null,
            "overflow_x": null,
            "grid_auto_flow": null,
            "grid_area": null,
            "grid_template_columns": null,
            "flex": null,
            "_model_name": "LayoutModel",
            "justify_items": null,
            "grid_row": null,
            "max_height": null,
            "align_content": null,
            "visibility": null,
            "align_self": null,
            "height": null,
            "min_height": null,
            "padding": null,
            "grid_auto_rows": null,
            "grid_gap": null,
            "max_width": null,
            "order": null,
            "_view_module_version": "1.2.0",
            "grid_template_areas": null,
            "object_position": null,
            "object_fit": null,
            "grid_auto_columns": null,
            "margin": null,
            "display": null,
            "left": null
          }
        },
        "d0fc59984091408884e8f67cffd32b52": {
          "model_module": "@jupyter-widgets/controls",
          "model_name": "HBoxModel",
          "model_module_version": "1.5.0",
          "state": {
            "_view_name": "HBoxView",
            "_dom_classes": [],
            "_model_name": "HBoxModel",
            "_view_module": "@jupyter-widgets/controls",
            "_model_module_version": "1.5.0",
            "_view_count": null,
            "_view_module_version": "1.5.0",
            "box_style": "",
            "layout": "IPY_MODEL_185d837e61ff4e31bfd3c060539288f3",
            "_model_module": "@jupyter-widgets/controls",
            "children": [
              "IPY_MODEL_52b19c429b51424ba07b65073cffc885",
              "IPY_MODEL_7f7198e2ca7b43638fa04aea6a964013",
              "IPY_MODEL_92a303384c234d13b7da3f0b3f24dbe9"
            ]
          }
        },
        "185d837e61ff4e31bfd3c060539288f3": {
          "model_module": "@jupyter-widgets/base",
          "model_name": "LayoutModel",
          "model_module_version": "1.2.0",
          "state": {
            "_view_name": "LayoutView",
            "grid_template_rows": null,
            "right": null,
            "justify_content": null,
            "_view_module": "@jupyter-widgets/base",
            "overflow": null,
            "_model_module_version": "1.2.0",
            "_view_count": null,
            "flex_flow": null,
            "width": null,
            "min_width": null,
            "border": null,
            "align_items": null,
            "bottom": null,
            "_model_module": "@jupyter-widgets/base",
            "top": null,
            "grid_column": null,
            "overflow_y": null,
            "overflow_x": null,
            "grid_auto_flow": null,
            "grid_area": null,
            "grid_template_columns": null,
            "flex": null,
            "_model_name": "LayoutModel",
            "justify_items": null,
            "grid_row": null,
            "max_height": null,
            "align_content": null,
            "visibility": null,
            "align_self": null,
            "height": null,
            "min_height": null,
            "padding": null,
            "grid_auto_rows": null,
            "grid_gap": null,
            "max_width": null,
            "order": null,
            "_view_module_version": "1.2.0",
            "grid_template_areas": null,
            "object_position": null,
            "object_fit": null,
            "grid_auto_columns": null,
            "margin": null,
            "display": null,
            "left": null
          }
        },
        "52b19c429b51424ba07b65073cffc885": {
          "model_module": "@jupyter-widgets/controls",
          "model_name": "HTMLModel",
          "model_module_version": "1.5.0",
          "state": {
            "_view_name": "HTMLView",
            "style": "IPY_MODEL_741bd4ee4e8446af9454a3499067447a",
            "_dom_classes": [],
            "description": "",
            "_model_name": "HTMLModel",
            "placeholder": "​",
            "_view_module": "@jupyter-widgets/controls",
            "_model_module_version": "1.5.0",
            "value": "Train: ",
            "_view_count": null,
            "_view_module_version": "1.5.0",
            "description_tooltip": null,
            "_model_module": "@jupyter-widgets/controls",
            "layout": "IPY_MODEL_bada8877174f4c4f8bcd153a95180d58"
          }
        },
        "7f7198e2ca7b43638fa04aea6a964013": {
          "model_module": "@jupyter-widgets/controls",
          "model_name": "FloatProgressModel",
          "model_module_version": "1.5.0",
          "state": {
            "_view_name": "ProgressView",
            "style": "IPY_MODEL_74aad3a4f506485a80ee543293603a64",
            "_dom_classes": [],
            "description": "",
            "_model_name": "FloatProgressModel",
            "bar_style": "success",
            "max": 97,
            "_view_module": "@jupyter-widgets/controls",
            "_model_module_version": "1.5.0",
            "value": 97,
            "_view_count": null,
            "_view_module_version": "1.5.0",
            "orientation": "horizontal",
            "min": 0,
            "description_tooltip": null,
            "_model_module": "@jupyter-widgets/controls",
            "layout": "IPY_MODEL_9694878f5db14d39b4a784034ccdb709"
          }
        },
        "92a303384c234d13b7da3f0b3f24dbe9": {
          "model_module": "@jupyter-widgets/controls",
          "model_name": "HTMLModel",
          "model_module_version": "1.5.0",
          "state": {
            "_view_name": "HTMLView",
            "style": "IPY_MODEL_855a5bd769844bd983ef88cfabc415ea",
            "_dom_classes": [],
            "description": "",
            "_model_name": "HTMLModel",
            "placeholder": "​",
            "_view_module": "@jupyter-widgets/controls",
            "_model_module_version": "1.5.0",
            "value": " 98/? [00:22&lt;00:00,  4.56it/s, loss=10.2, perplexity=2.8e+4]",
            "_view_count": null,
            "_view_module_version": "1.5.0",
            "description_tooltip": null,
            "_model_module": "@jupyter-widgets/controls",
            "layout": "IPY_MODEL_093cba3fc3e44e24aa4b0e7664216abf"
          }
        },
        "741bd4ee4e8446af9454a3499067447a": {
          "model_module": "@jupyter-widgets/controls",
          "model_name": "DescriptionStyleModel",
          "model_module_version": "1.5.0",
          "state": {
            "_view_name": "StyleView",
            "_model_name": "DescriptionStyleModel",
            "description_width": "",
            "_view_module": "@jupyter-widgets/base",
            "_model_module_version": "1.5.0",
            "_view_count": null,
            "_view_module_version": "1.2.0",
            "_model_module": "@jupyter-widgets/controls"
          }
        },
        "bada8877174f4c4f8bcd153a95180d58": {
          "model_module": "@jupyter-widgets/base",
          "model_name": "LayoutModel",
          "model_module_version": "1.2.0",
          "state": {
            "_view_name": "LayoutView",
            "grid_template_rows": null,
            "right": null,
            "justify_content": null,
            "_view_module": "@jupyter-widgets/base",
            "overflow": null,
            "_model_module_version": "1.2.0",
            "_view_count": null,
            "flex_flow": null,
            "width": null,
            "min_width": null,
            "border": null,
            "align_items": null,
            "bottom": null,
            "_model_module": "@jupyter-widgets/base",
            "top": null,
            "grid_column": null,
            "overflow_y": null,
            "overflow_x": null,
            "grid_auto_flow": null,
            "grid_area": null,
            "grid_template_columns": null,
            "flex": null,
            "_model_name": "LayoutModel",
            "justify_items": null,
            "grid_row": null,
            "max_height": null,
            "align_content": null,
            "visibility": null,
            "align_self": null,
            "height": null,
            "min_height": null,
            "padding": null,
            "grid_auto_rows": null,
            "grid_gap": null,
            "max_width": null,
            "order": null,
            "_view_module_version": "1.2.0",
            "grid_template_areas": null,
            "object_position": null,
            "object_fit": null,
            "grid_auto_columns": null,
            "margin": null,
            "display": null,
            "left": null
          }
        },
        "74aad3a4f506485a80ee543293603a64": {
          "model_module": "@jupyter-widgets/controls",
          "model_name": "ProgressStyleModel",
          "model_module_version": "1.5.0",
          "state": {
            "_view_name": "StyleView",
            "_model_name": "ProgressStyleModel",
            "description_width": "",
            "_view_module": "@jupyter-widgets/base",
            "_model_module_version": "1.5.0",
            "_view_count": null,
            "_view_module_version": "1.2.0",
            "bar_color": null,
            "_model_module": "@jupyter-widgets/controls"
          }
        },
        "9694878f5db14d39b4a784034ccdb709": {
          "model_module": "@jupyter-widgets/base",
          "model_name": "LayoutModel",
          "model_module_version": "1.2.0",
          "state": {
            "_view_name": "LayoutView",
            "grid_template_rows": null,
            "right": null,
            "justify_content": null,
            "_view_module": "@jupyter-widgets/base",
            "overflow": null,
            "_model_module_version": "1.2.0",
            "_view_count": null,
            "flex_flow": null,
            "width": null,
            "min_width": null,
            "border": null,
            "align_items": null,
            "bottom": null,
            "_model_module": "@jupyter-widgets/base",
            "top": null,
            "grid_column": null,
            "overflow_y": null,
            "overflow_x": null,
            "grid_auto_flow": null,
            "grid_area": null,
            "grid_template_columns": null,
            "flex": null,
            "_model_name": "LayoutModel",
            "justify_items": null,
            "grid_row": null,
            "max_height": null,
            "align_content": null,
            "visibility": null,
            "align_self": null,
            "height": null,
            "min_height": null,
            "padding": null,
            "grid_auto_rows": null,
            "grid_gap": null,
            "max_width": null,
            "order": null,
            "_view_module_version": "1.2.0",
            "grid_template_areas": null,
            "object_position": null,
            "object_fit": null,
            "grid_auto_columns": null,
            "margin": null,
            "display": null,
            "left": null
          }
        },
        "855a5bd769844bd983ef88cfabc415ea": {
          "model_module": "@jupyter-widgets/controls",
          "model_name": "DescriptionStyleModel",
          "model_module_version": "1.5.0",
          "state": {
            "_view_name": "StyleView",
            "_model_name": "DescriptionStyleModel",
            "description_width": "",
            "_view_module": "@jupyter-widgets/base",
            "_model_module_version": "1.5.0",
            "_view_count": null,
            "_view_module_version": "1.2.0",
            "_model_module": "@jupyter-widgets/controls"
          }
        },
        "093cba3fc3e44e24aa4b0e7664216abf": {
          "model_module": "@jupyter-widgets/base",
          "model_name": "LayoutModel",
          "model_module_version": "1.2.0",
          "state": {
            "_view_name": "LayoutView",
            "grid_template_rows": null,
            "right": null,
            "justify_content": null,
            "_view_module": "@jupyter-widgets/base",
            "overflow": null,
            "_model_module_version": "1.2.0",
            "_view_count": null,
            "flex_flow": null,
            "width": null,
            "min_width": null,
            "border": null,
            "align_items": null,
            "bottom": null,
            "_model_module": "@jupyter-widgets/base",
            "top": null,
            "grid_column": null,
            "overflow_y": null,
            "overflow_x": null,
            "grid_auto_flow": null,
            "grid_area": null,
            "grid_template_columns": null,
            "flex": null,
            "_model_name": "LayoutModel",
            "justify_items": null,
            "grid_row": null,
            "max_height": null,
            "align_content": null,
            "visibility": null,
            "align_self": null,
            "height": null,
            "min_height": null,
            "padding": null,
            "grid_auto_rows": null,
            "grid_gap": null,
            "max_width": null,
            "order": null,
            "_view_module_version": "1.2.0",
            "grid_template_areas": null,
            "object_position": null,
            "object_fit": null,
            "grid_auto_columns": null,
            "margin": null,
            "display": null,
            "left": null
          }
        },
        "2b9a84b36e8544fc92706130b787e09d": {
          "model_module": "@jupyter-widgets/controls",
          "model_name": "HBoxModel",
          "model_module_version": "1.5.0",
          "state": {
            "_view_name": "HBoxView",
            "_dom_classes": [],
            "_model_name": "HBoxModel",
            "_view_module": "@jupyter-widgets/controls",
            "_model_module_version": "1.5.0",
            "_view_count": null,
            "_view_module_version": "1.5.0",
            "box_style": "",
            "layout": "IPY_MODEL_e87b80b19dd84d6e86da5343af5efc53",
            "_model_module": "@jupyter-widgets/controls",
            "children": [
              "IPY_MODEL_5d37fb2318af4d50b1df684fca495b08",
              "IPY_MODEL_5f94940be40e4d968aaf9a7fd2584859",
              "IPY_MODEL_52ee7c4320e945e6aacac42de3c4b52e"
            ]
          }
        },
        "e87b80b19dd84d6e86da5343af5efc53": {
          "model_module": "@jupyter-widgets/base",
          "model_name": "LayoutModel",
          "model_module_version": "1.2.0",
          "state": {
            "_view_name": "LayoutView",
            "grid_template_rows": null,
            "right": null,
            "justify_content": null,
            "_view_module": "@jupyter-widgets/base",
            "overflow": null,
            "_model_module_version": "1.2.0",
            "_view_count": null,
            "flex_flow": null,
            "width": null,
            "min_width": null,
            "border": null,
            "align_items": null,
            "bottom": null,
            "_model_module": "@jupyter-widgets/base",
            "top": null,
            "grid_column": null,
            "overflow_y": null,
            "overflow_x": null,
            "grid_auto_flow": null,
            "grid_area": null,
            "grid_template_columns": null,
            "flex": null,
            "_model_name": "LayoutModel",
            "justify_items": null,
            "grid_row": null,
            "max_height": null,
            "align_content": null,
            "visibility": null,
            "align_self": null,
            "height": null,
            "min_height": null,
            "padding": null,
            "grid_auto_rows": null,
            "grid_gap": null,
            "max_width": null,
            "order": null,
            "_view_module_version": "1.2.0",
            "grid_template_areas": null,
            "object_position": null,
            "object_fit": null,
            "grid_auto_columns": null,
            "margin": null,
            "display": null,
            "left": null
          }
        },
        "5d37fb2318af4d50b1df684fca495b08": {
          "model_module": "@jupyter-widgets/controls",
          "model_name": "HTMLModel",
          "model_module_version": "1.5.0",
          "state": {
            "_view_name": "HTMLView",
            "style": "IPY_MODEL_8147eaffb062479a94e7a71385ba237c",
            "_dom_classes": [],
            "description": "",
            "_model_name": "HTMLModel",
            "placeholder": "​",
            "_view_module": "@jupyter-widgets/controls",
            "_model_module_version": "1.5.0",
            "value": "Train: ",
            "_view_count": null,
            "_view_module_version": "1.5.0",
            "description_tooltip": null,
            "_model_module": "@jupyter-widgets/controls",
            "layout": "IPY_MODEL_cd43c6ec627240e78428b5b9dc1ffa04"
          }
        },
        "5f94940be40e4d968aaf9a7fd2584859": {
          "model_module": "@jupyter-widgets/controls",
          "model_name": "FloatProgressModel",
          "model_module_version": "1.5.0",
          "state": {
            "_view_name": "ProgressView",
            "style": "IPY_MODEL_2cd79c3f052f4476b38219c5ce5bea0d",
            "_dom_classes": [],
            "description": "",
            "_model_name": "FloatProgressModel",
            "bar_style": "success",
            "max": 97,
            "_view_module": "@jupyter-widgets/controls",
            "_model_module_version": "1.5.0",
            "value": 97,
            "_view_count": null,
            "_view_module_version": "1.5.0",
            "orientation": "horizontal",
            "min": 0,
            "description_tooltip": null,
            "_model_module": "@jupyter-widgets/controls",
            "layout": "IPY_MODEL_005497e2bc6e48b7b62ecd30013b6004"
          }
        },
        "52ee7c4320e945e6aacac42de3c4b52e": {
          "model_module": "@jupyter-widgets/controls",
          "model_name": "HTMLModel",
          "model_module_version": "1.5.0",
          "state": {
            "_view_name": "HTMLView",
            "style": "IPY_MODEL_0a8d37e1fc7b4173a464c52e4dfd3714",
            "_dom_classes": [],
            "description": "",
            "_model_name": "HTMLModel",
            "placeholder": "​",
            "_view_module": "@jupyter-widgets/controls",
            "_model_module_version": "1.5.0",
            "value": " 98/? [00:22&lt;00:00,  4.63it/s, loss=10.2, perplexity=2.8e+4]",
            "_view_count": null,
            "_view_module_version": "1.5.0",
            "description_tooltip": null,
            "_model_module": "@jupyter-widgets/controls",
            "layout": "IPY_MODEL_0c69ab67452a4a68a6ab19f7a6e4d8e6"
          }
        },
        "8147eaffb062479a94e7a71385ba237c": {
          "model_module": "@jupyter-widgets/controls",
          "model_name": "DescriptionStyleModel",
          "model_module_version": "1.5.0",
          "state": {
            "_view_name": "StyleView",
            "_model_name": "DescriptionStyleModel",
            "description_width": "",
            "_view_module": "@jupyter-widgets/base",
            "_model_module_version": "1.5.0",
            "_view_count": null,
            "_view_module_version": "1.2.0",
            "_model_module": "@jupyter-widgets/controls"
          }
        },
        "cd43c6ec627240e78428b5b9dc1ffa04": {
          "model_module": "@jupyter-widgets/base",
          "model_name": "LayoutModel",
          "model_module_version": "1.2.0",
          "state": {
            "_view_name": "LayoutView",
            "grid_template_rows": null,
            "right": null,
            "justify_content": null,
            "_view_module": "@jupyter-widgets/base",
            "overflow": null,
            "_model_module_version": "1.2.0",
            "_view_count": null,
            "flex_flow": null,
            "width": null,
            "min_width": null,
            "border": null,
            "align_items": null,
            "bottom": null,
            "_model_module": "@jupyter-widgets/base",
            "top": null,
            "grid_column": null,
            "overflow_y": null,
            "overflow_x": null,
            "grid_auto_flow": null,
            "grid_area": null,
            "grid_template_columns": null,
            "flex": null,
            "_model_name": "LayoutModel",
            "justify_items": null,
            "grid_row": null,
            "max_height": null,
            "align_content": null,
            "visibility": null,
            "align_self": null,
            "height": null,
            "min_height": null,
            "padding": null,
            "grid_auto_rows": null,
            "grid_gap": null,
            "max_width": null,
            "order": null,
            "_view_module_version": "1.2.0",
            "grid_template_areas": null,
            "object_position": null,
            "object_fit": null,
            "grid_auto_columns": null,
            "margin": null,
            "display": null,
            "left": null
          }
        },
        "2cd79c3f052f4476b38219c5ce5bea0d": {
          "model_module": "@jupyter-widgets/controls",
          "model_name": "ProgressStyleModel",
          "model_module_version": "1.5.0",
          "state": {
            "_view_name": "StyleView",
            "_model_name": "ProgressStyleModel",
            "description_width": "",
            "_view_module": "@jupyter-widgets/base",
            "_model_module_version": "1.5.0",
            "_view_count": null,
            "_view_module_version": "1.2.0",
            "bar_color": null,
            "_model_module": "@jupyter-widgets/controls"
          }
        },
        "005497e2bc6e48b7b62ecd30013b6004": {
          "model_module": "@jupyter-widgets/base",
          "model_name": "LayoutModel",
          "model_module_version": "1.2.0",
          "state": {
            "_view_name": "LayoutView",
            "grid_template_rows": null,
            "right": null,
            "justify_content": null,
            "_view_module": "@jupyter-widgets/base",
            "overflow": null,
            "_model_module_version": "1.2.0",
            "_view_count": null,
            "flex_flow": null,
            "width": null,
            "min_width": null,
            "border": null,
            "align_items": null,
            "bottom": null,
            "_model_module": "@jupyter-widgets/base",
            "top": null,
            "grid_column": null,
            "overflow_y": null,
            "overflow_x": null,
            "grid_auto_flow": null,
            "grid_area": null,
            "grid_template_columns": null,
            "flex": null,
            "_model_name": "LayoutModel",
            "justify_items": null,
            "grid_row": null,
            "max_height": null,
            "align_content": null,
            "visibility": null,
            "align_self": null,
            "height": null,
            "min_height": null,
            "padding": null,
            "grid_auto_rows": null,
            "grid_gap": null,
            "max_width": null,
            "order": null,
            "_view_module_version": "1.2.0",
            "grid_template_areas": null,
            "object_position": null,
            "object_fit": null,
            "grid_auto_columns": null,
            "margin": null,
            "display": null,
            "left": null
          }
        },
        "0a8d37e1fc7b4173a464c52e4dfd3714": {
          "model_module": "@jupyter-widgets/controls",
          "model_name": "DescriptionStyleModel",
          "model_module_version": "1.5.0",
          "state": {
            "_view_name": "StyleView",
            "_model_name": "DescriptionStyleModel",
            "description_width": "",
            "_view_module": "@jupyter-widgets/base",
            "_model_module_version": "1.5.0",
            "_view_count": null,
            "_view_module_version": "1.2.0",
            "_model_module": "@jupyter-widgets/controls"
          }
        },
        "0c69ab67452a4a68a6ab19f7a6e4d8e6": {
          "model_module": "@jupyter-widgets/base",
          "model_name": "LayoutModel",
          "model_module_version": "1.2.0",
          "state": {
            "_view_name": "LayoutView",
            "grid_template_rows": null,
            "right": null,
            "justify_content": null,
            "_view_module": "@jupyter-widgets/base",
            "overflow": null,
            "_model_module_version": "1.2.0",
            "_view_count": null,
            "flex_flow": null,
            "width": null,
            "min_width": null,
            "border": null,
            "align_items": null,
            "bottom": null,
            "_model_module": "@jupyter-widgets/base",
            "top": null,
            "grid_column": null,
            "overflow_y": null,
            "overflow_x": null,
            "grid_auto_flow": null,
            "grid_area": null,
            "grid_template_columns": null,
            "flex": null,
            "_model_name": "LayoutModel",
            "justify_items": null,
            "grid_row": null,
            "max_height": null,
            "align_content": null,
            "visibility": null,
            "align_self": null,
            "height": null,
            "min_height": null,
            "padding": null,
            "grid_auto_rows": null,
            "grid_gap": null,
            "max_width": null,
            "order": null,
            "_view_module_version": "1.2.0",
            "grid_template_areas": null,
            "object_position": null,
            "object_fit": null,
            "grid_auto_columns": null,
            "margin": null,
            "display": null,
            "left": null
          }
        }
      }
    }
  },
  "cells": [
    {
      "cell_type": "markdown",
      "metadata": {
        "id": "view-in-github",
        "colab_type": "text"
      },
      "source": [
        "<a href=\"https://colab.research.google.com/github/deniskapel/GenerativeChitChat/blob/master/chatbot.ipynb\" target=\"_parent\"><img src=\"https://colab.research.google.com/assets/colab-badge.svg\" alt=\"Open In Colab\"/></a>"
      ]
    },
    {
      "cell_type": "code",
      "source": [
        "%%bash\n",
        "mkdir data\n",
        "mkdir pretrained\n",
        "mkdir model\n",
        "wget --load-cookies /tmp/cookies.txt \"https://docs.google.com/uc?export=download&confirm=$(wget --quiet --save-cookies /tmp/cookies.txt --keep-session-cookies --no-check-certificate 'https://docs.google.com/uc?export=download&id=1uSgX8EaXtSR1yZgs-pJGYiZXi7tPEBrE' -O- | sed -rn 's/.*confirm=([0-9A-Za-z_]+).*/\\1\\n/p')&id=1uSgX8EaXtSR1yZgs-pJGYiZXi7tPEBrE\" -O data/qa_data.jsonl.zip && rm -rf /tmp/cookies.txt\n",
        "unzip data/qa_data.jsonl.zip -d data"
      ],
      "metadata": {
        "id": "ZiUi-EQej7F1"
      },
      "execution_count": null,
      "outputs": []
    },
    {
      "cell_type": "code",
      "execution_count": null,
      "metadata": {
        "id": "N3OyXPMXibW7"
      },
      "outputs": [],
      "source": [
        "%%bash\n",
        "wget \"https://raw.githubusercontent.com/deniskapel/GenerativeChitChat/master/requirements.txt\"\n",
        "pip install -r requirements.txt"
      ]
    },
    {
      "cell_type": "code",
      "source": [
        "import codecs\n",
        "import json\n",
        "import random\n",
        "import math\n",
        "\n",
        "import numpy as np\n",
        "import pandas as pd\n",
        "\n",
        "import json\n",
        "import torch\n",
        "from torch.utils.data import Dataset, DataLoader, Sampler\n",
        "from torch.nn.utils.rnn import pad_sequence\n",
        "from torch import nn\n",
        "import torch.nn.functional as F\n",
        "\n",
        "from tqdm.notebook import tqdm\n",
        "\n",
        "from matplotlib import pyplot as plt\n",
        "\n",
        "import youtokentome as yttm"
      ],
      "metadata": {
        "id": "HyZvLEEanEae"
      },
      "execution_count": 3,
      "outputs": []
    },
    {
      "cell_type": "code",
      "source": [
        "assert torch.cuda.is_available(), 'no gpu available'\n",
        "device = torch.device('cuda')\n",
        "device"
      ],
      "metadata": {
        "id": "p9d0p9R99Tyj",
        "colab": {
          "base_uri": "https://localhost:8080/"
        },
        "outputId": "a2508099-99b8-4d59-b2df-2f044925cb26"
      },
      "execution_count": 4,
      "outputs": [
        {
          "output_type": "execute_result",
          "data": {
            "text/plain": [
              "device(type='cuda')"
            ]
          },
          "metadata": {},
          "execution_count": 4
        }
      ]
    },
    {
      "cell_type": "code",
      "source": [
        "%%bash\n",
        "wget --no-check-certificate 'https://docs.google.com/uc?export=download&id=1QALzCQV3awJ84_LAVoo1FTdZ65VHX8Mc' -O pretrained/my_pretrained_bpe_lm.model"
      ],
      "metadata": {
        "id": "xc12itjMiny3"
      },
      "execution_count": null,
      "outputs": []
    },
    {
      "cell_type": "code",
      "source": [
        "tokenizer = yttm.BPE(model=\"pretrained/my_pretrained_bpe_lm.model\")"
      ],
      "metadata": {
        "id": "RzS0keryncy1"
      },
      "execution_count": 6,
      "outputs": []
    },
    {
      "cell_type": "code",
      "source": [
        "batch_size = 64\n",
        "pad_index = 0\n",
        "eos_index = 3\n",
        "vocab_size=30_000"
      ],
      "metadata": {
        "id": "C38a5uPDnk_s"
      },
      "execution_count": 7,
      "outputs": []
    },
    {
      "cell_type": "markdown",
      "source": [
        "## Data"
      ],
      "metadata": {
        "id": "3Qq5UFzTnnYs"
      }
    },
    {
      "cell_type": "code",
      "source": [
        "!sed 5q data/qa_data.jsonl"
      ],
      "metadata": {
        "colab": {
          "base_uri": "https://localhost:8080/"
        },
        "id": "bW_FsRsVmYMd",
        "outputId": "26684f75-1770-46f9-af86-45305bbe8a4d"
      },
      "execution_count": 8,
      "outputs": [
        {
          "output_type": "stream",
          "name": "stdout",
          "text": [
            "{\"question\": \"долго ли идут деньги с яндексденег на карту visa?\", \"category\": \"Бизнес, Финансы\", \"responses\": [\"нет. прорыв 35 ;)\"]}\n",
            "{\"question\": \"можно ли зарегистрировать авто в другом регионе\", \"category\": \"Авто, Мото\", \"responses\": [\"можно на родственника из того региона.. .  а потом ездить по доверке\"]}\n",
            "{\"question\": \"что делать если у меня очень тонкие ногти а хочется их отрастить?\", \"category\": \"Красота и Здоровье\", \"responses\": [\"витамины и умная эмаль (каждый день)\", \"ванночки с морской солью. с вечера мажь ногти сверху йодом. не бойся, до утра все впитается.\", \"умная эмаль, витамины, йод, и поменьше крась лаком \", \"лаки фирмы trind производство usa + кальций\"]}\n",
            "{\"question\": \"в чем отличие медитации от йоги?\", \"category\": \"Спорт\", \"responses\": [\"букв в йоге меньше\", \"в медитации ты просто сидишь и мммммычишь. а в йоге всяко разные упражнения вытворяешь\", \"в медитации вроде просто тупо сидишь и успокаеваешься, а в йоге еще и ноги за уши закидывать надо\"]}\n",
            "{\"question\": \"когда начнут линейку фильмов про лигу чемпионов?\", \"category\": \"Спорт\", \"responses\": [\"а не фильм? жалко... а я то думал - хорошая комедия\"]}\n"
          ]
        }
      ]
    },
    {
      "cell_type": "code",
      "source": [
        "with codecs.open(\"data/qa_data.jsonl\", encoding='utf-8-sig') as reader:\n",
        "    lines = reader.read().split(\"\\n\")\n",
        "    lines = list(map(json.loads, filter(None, lines)))\n",
        "\n",
        "data = []\n",
        "for line in tqdm(lines):\n",
        "    for response in line['responses']:\n",
        "        data.append(\n",
        "            {'question': line['question'].lower(),\n",
        "             'category': line['category'],\n",
        "             'response': response.lower()})\n",
        "\n",
        "del lines\n",
        "df = pd.json_normalize(data)\n",
        "del data"
      ],
      "metadata": {
        "colab": {
          "base_uri": "https://localhost:8080/",
          "height": 49,
          "referenced_widgets": [
            "871c17a6a32e4b6b84ebbd6c36451d92",
            "c03aed56fe5e421294cdccda43111fc1",
            "e35faed5b6844c22b983b9c3f3048465",
            "84c1d768ba5247208fd97320ef48800c",
            "928148d3361a474882556bb4b04889e2",
            "a123116bf19e42328ddf7777414fb6a3",
            "2a46e7d2daeb4bd8bd4952d084179502",
            "956328c535984d3c890f91a4e545eb37",
            "63acd6dce4d04badb98a99a5badb3eb2",
            "c377ea1d0f0a4dd5b952ed536009391a",
            "ce77c35c61e747a29323ff95b0372f67"
          ]
        },
        "id": "g0Y-AdoUnkpW",
        "outputId": "50f6990f-222d-43f6-8744-2e8c24b857eb"
      },
      "execution_count": 9,
      "outputs": [
        {
          "output_type": "display_data",
          "data": {
            "application/vnd.jupyter.widget-view+json": {
              "model_id": "871c17a6a32e4b6b84ebbd6c36451d92",
              "version_minor": 0,
              "version_major": 2
            },
            "text/plain": [
              "  0%|          | 0/2808811 [00:00<?, ?it/s]"
            ]
          },
          "metadata": {}
        }
      ]
    },
    {
      "cell_type": "code",
      "source": [
        "df.head()"
      ],
      "metadata": {
        "id": "g1Qo_gM7lbac",
        "colab": {
          "base_uri": "https://localhost:8080/",
          "height": 206
        },
        "outputId": "d4e8ecdd-699a-4fa4-f6e5-c96bf2b2796d"
      },
      "execution_count": 10,
      "outputs": [
        {
          "output_type": "execute_result",
          "data": {
            "text/html": [
              "\n",
              "  <div id=\"df-f21571d8-25c8-4139-8f71-df7521b5606e\">\n",
              "    <div class=\"colab-df-container\">\n",
              "      <div>\n",
              "<style scoped>\n",
              "    .dataframe tbody tr th:only-of-type {\n",
              "        vertical-align: middle;\n",
              "    }\n",
              "\n",
              "    .dataframe tbody tr th {\n",
              "        vertical-align: top;\n",
              "    }\n",
              "\n",
              "    .dataframe thead th {\n",
              "        text-align: right;\n",
              "    }\n",
              "</style>\n",
              "<table border=\"1\" class=\"dataframe\">\n",
              "  <thead>\n",
              "    <tr style=\"text-align: right;\">\n",
              "      <th></th>\n",
              "      <th>question</th>\n",
              "      <th>category</th>\n",
              "      <th>response</th>\n",
              "    </tr>\n",
              "  </thead>\n",
              "  <tbody>\n",
              "    <tr>\n",
              "      <th>0</th>\n",
              "      <td>долго ли идут деньги с яндексденег на карту visa?</td>\n",
              "      <td>Бизнес, Финансы</td>\n",
              "      <td>нет. прорыв 35 ;)</td>\n",
              "    </tr>\n",
              "    <tr>\n",
              "      <th>1</th>\n",
              "      <td>можно ли зарегистрировать авто в другом регионе</td>\n",
              "      <td>Авто, Мото</td>\n",
              "      <td>можно на родственника из того региона.. .  а п...</td>\n",
              "    </tr>\n",
              "    <tr>\n",
              "      <th>2</th>\n",
              "      <td>что делать если у меня очень тонкие ногти а хо...</td>\n",
              "      <td>Красота и Здоровье</td>\n",
              "      <td>витамины и умная эмаль (каждый день)</td>\n",
              "    </tr>\n",
              "    <tr>\n",
              "      <th>3</th>\n",
              "      <td>что делать если у меня очень тонкие ногти а хо...</td>\n",
              "      <td>Красота и Здоровье</td>\n",
              "      <td>ванночки с морской солью. с вечера мажь ногти ...</td>\n",
              "    </tr>\n",
              "    <tr>\n",
              "      <th>4</th>\n",
              "      <td>что делать если у меня очень тонкие ногти а хо...</td>\n",
              "      <td>Красота и Здоровье</td>\n",
              "      <td>умная эмаль, витамины, йод, и поменьше крась л...</td>\n",
              "    </tr>\n",
              "  </tbody>\n",
              "</table>\n",
              "</div>\n",
              "      <button class=\"colab-df-convert\" onclick=\"convertToInteractive('df-f21571d8-25c8-4139-8f71-df7521b5606e')\"\n",
              "              title=\"Convert this dataframe to an interactive table.\"\n",
              "              style=\"display:none;\">\n",
              "        \n",
              "  <svg xmlns=\"http://www.w3.org/2000/svg\" height=\"24px\"viewBox=\"0 0 24 24\"\n",
              "       width=\"24px\">\n",
              "    <path d=\"M0 0h24v24H0V0z\" fill=\"none\"/>\n",
              "    <path d=\"M18.56 5.44l.94 2.06.94-2.06 2.06-.94-2.06-.94-.94-2.06-.94 2.06-2.06.94zm-11 1L8.5 8.5l.94-2.06 2.06-.94-2.06-.94L8.5 2.5l-.94 2.06-2.06.94zm10 10l.94 2.06.94-2.06 2.06-.94-2.06-.94-.94-2.06-.94 2.06-2.06.94z\"/><path d=\"M17.41 7.96l-1.37-1.37c-.4-.4-.92-.59-1.43-.59-.52 0-1.04.2-1.43.59L10.3 9.45l-7.72 7.72c-.78.78-.78 2.05 0 2.83L4 21.41c.39.39.9.59 1.41.59.51 0 1.02-.2 1.41-.59l7.78-7.78 2.81-2.81c.8-.78.8-2.07 0-2.86zM5.41 20L4 18.59l7.72-7.72 1.47 1.35L5.41 20z\"/>\n",
              "  </svg>\n",
              "      </button>\n",
              "      \n",
              "  <style>\n",
              "    .colab-df-container {\n",
              "      display:flex;\n",
              "      flex-wrap:wrap;\n",
              "      gap: 12px;\n",
              "    }\n",
              "\n",
              "    .colab-df-convert {\n",
              "      background-color: #E8F0FE;\n",
              "      border: none;\n",
              "      border-radius: 50%;\n",
              "      cursor: pointer;\n",
              "      display: none;\n",
              "      fill: #1967D2;\n",
              "      height: 32px;\n",
              "      padding: 0 0 0 0;\n",
              "      width: 32px;\n",
              "    }\n",
              "\n",
              "    .colab-df-convert:hover {\n",
              "      background-color: #E2EBFA;\n",
              "      box-shadow: 0px 1px 2px rgba(60, 64, 67, 0.3), 0px 1px 3px 1px rgba(60, 64, 67, 0.15);\n",
              "      fill: #174EA6;\n",
              "    }\n",
              "\n",
              "    [theme=dark] .colab-df-convert {\n",
              "      background-color: #3B4455;\n",
              "      fill: #D2E3FC;\n",
              "    }\n",
              "\n",
              "    [theme=dark] .colab-df-convert:hover {\n",
              "      background-color: #434B5C;\n",
              "      box-shadow: 0px 1px 3px 1px rgba(0, 0, 0, 0.15);\n",
              "      filter: drop-shadow(0px 1px 2px rgba(0, 0, 0, 0.3));\n",
              "      fill: #FFFFFF;\n",
              "    }\n",
              "  </style>\n",
              "\n",
              "      <script>\n",
              "        const buttonEl =\n",
              "          document.querySelector('#df-f21571d8-25c8-4139-8f71-df7521b5606e button.colab-df-convert');\n",
              "        buttonEl.style.display =\n",
              "          google.colab.kernel.accessAllowed ? 'block' : 'none';\n",
              "\n",
              "        async function convertToInteractive(key) {\n",
              "          const element = document.querySelector('#df-f21571d8-25c8-4139-8f71-df7521b5606e');\n",
              "          const dataTable =\n",
              "            await google.colab.kernel.invokeFunction('convertToInteractive',\n",
              "                                                     [key], {});\n",
              "          if (!dataTable) return;\n",
              "\n",
              "          const docLinkHtml = 'Like what you see? Visit the ' +\n",
              "            '<a target=\"_blank\" href=https://colab.research.google.com/notebooks/data_table.ipynb>data table notebook</a>'\n",
              "            + ' to learn more about interactive tables.';\n",
              "          element.innerHTML = '';\n",
              "          dataTable['output_type'] = 'display_data';\n",
              "          await google.colab.output.renderOutput(dataTable, element);\n",
              "          const docLink = document.createElement('div');\n",
              "          docLink.innerHTML = docLinkHtml;\n",
              "          element.appendChild(docLink);\n",
              "        }\n",
              "      </script>\n",
              "    </div>\n",
              "  </div>\n",
              "  "
            ],
            "text/plain": [
              "                                            question  ...                                           response\n",
              "0  долго ли идут деньги с яндексденег на карту visa?  ...                                  нет. прорыв 35 ;)\n",
              "1    можно ли зарегистрировать авто в другом регионе  ...  можно на родственника из того региона.. .  а п...\n",
              "2  что делать если у меня очень тонкие ногти а хо...  ...               витамины и умная эмаль (каждый день)\n",
              "3  что делать если у меня очень тонкие ногти а хо...  ...  ванночки с морской солью. с вечера мажь ногти ...\n",
              "4  что делать если у меня очень тонкие ногти а хо...  ...  умная эмаль, витамины, йод, и поменьше крась л...\n",
              "\n",
              "[5 rows x 3 columns]"
            ]
          },
          "metadata": {},
          "execution_count": 10
        }
      ]
    },
    {
      "cell_type": "code",
      "source": [
        "df.shape"
      ],
      "metadata": {
        "colab": {
          "base_uri": "https://localhost:8080/"
        },
        "id": "7_8FAKEoYGbY",
        "outputId": "6e75f345-30bc-4207-eadf-6e1e3f6644bf"
      },
      "execution_count": 11,
      "outputs": [
        {
          "output_type": "execute_result",
          "data": {
            "text/plain": [
              "(7767138, 3)"
            ]
          },
          "metadata": {},
          "execution_count": 11
        }
      ]
    },
    {
      "cell_type": "code",
      "source": [
        "df_mini = df.sample(frac=0.001, random_state=42)\n",
        "train_df = df_mini.sample(frac=0.8,random_state=42)\n",
        "val_df = df_mini.drop(train_df.index)\n",
        "test_df = val_df.sample(frac=0.5,random_state=42)\n",
        "val_df = val_df.drop(test_df.index)"
      ],
      "metadata": {
        "id": "O16oQWrWt1yJ"
      },
      "execution_count": 234,
      "outputs": []
    },
    {
      "cell_type": "code",
      "source": [
        "train_df.category.value_counts()"
      ],
      "metadata": {
        "id": "tOck-StiuY4u",
        "colab": {
          "base_uri": "https://localhost:8080/"
        },
        "outputId": "3f6cebee-03cc-4a81-e0e3-76635211a69a"
      },
      "execution_count": 235,
      "outputs": [
        {
          "output_type": "execute_result",
          "data": {
            "text/plain": [
              "Знакомства, Любовь, Отношения    802\n",
              "Философия, Непознанное           747\n",
              "Семья, Дом, Дети                 626\n",
              "Красота и Здоровье               541\n",
              "Искусство и Культура             505\n",
              "Авто, Мото                       479\n",
              "Спорт                            423\n",
              "Животные, Растения               394\n",
              "Досуг, Развлечения               301\n",
              "Еда, Кулинария                   296\n",
              "Стиль, Мода, Звезды              260\n",
              "Путешествия, Туризм              232\n",
              "Работа, Карьера                  214\n",
              "Бизнес, Финансы                  212\n",
              "Образование                      182\n",
              "Name: category, dtype: int64"
            ]
          },
          "metadata": {},
          "execution_count": 235
        }
      ]
    },
    {
      "cell_type": "markdown",
      "source": [
        "### Datasets"
      ],
      "metadata": {
        "id": "9rsOi2COnsHb"
      }
    },
    {
      "cell_type": "code",
      "source": [
        "class QAData(torch.utils.data.Dataset):\n",
        "    \n",
        "    def __init__(self, data: pd.DataFrame, tokenizer,\n",
        "                 pad_index=0, eos_index=3, response_len=32):\n",
        "        \n",
        "        self.x = data.question.tolist()\n",
        "        self.y = data.response.tolist()\n",
        "        self.tokenizer = tokenizer\n",
        "        # to use with beam search later\n",
        "        self.categories = data.category.tolist()\n",
        "        self.response_maxlen = response_len\n",
        "        self.pad_index = pad_index\n",
        "        self.eos_index = eos_index\n",
        "        \n",
        "    def __len__(self):\n",
        "        return len(self.x)\n",
        "    \n",
        "    def __getitem__(self, index):\n",
        "        \"\"\" x is a question and y is an asnwer \"\"\"\n",
        "        x = self.tokenizer.encode(self.x[index], bos=True, eos=True)\n",
        "        y = self.tokenizer.encode(self.y[index], bos=True, eos=True)\n",
        "\n",
        "        # different shape of samples is handled by batch sampler and model\n",
        "        x = torch.Tensor(x).type(torch.long)\n",
        "        y = torch.Tensor(y).type(torch.long)\n",
        "        \n",
        "        return x, y \n",
        "\n",
        "    def collate_batch(self, batch):\n",
        "        \"\"\"\n",
        "        add padding to dynamically match the longest sample in a batch\n",
        "        \"\"\"\n",
        "        batch_x, batch_y = self.__group_samples(batch)\n",
        "\n",
        "        batch_x = pad_sequence(\n",
        "            batch_x, padding_value=self.pad_index, batch_first=True)\n",
        "        batch_y = pad_sequence(\n",
        "            batch_y, padding_value=self.pad_index, batch_first=True)\n",
        "\n",
        "        # to index batches along time and across all sequences in the batch, \n",
        "        # transpose their shape to (seq_length, batch_size)\n",
        "        return batch_x.T, batch_y.T\n",
        "\n",
        "    def __group_samples(self, batch: list) -> list:\n",
        "        \"\"\" \n",
        "        input: [(sample_1_x, sample_1_y), (sample_2_x, sample_2_y)]\n",
        "        output: [[samle_1_x, sample_2_x], [sample_1_y, sample_2_y]]\n",
        "        \"\"\"\n",
        "        batch_x = []\n",
        "        batch_y = []\n",
        "        for sample in batch:\n",
        "            batch_x.append(sample[0])\n",
        "            batch_y.append(sample[1])\n",
        "\n",
        "        return batch_x, batch_y"
      ],
      "metadata": {
        "id": "7XXFKp3u8km4"
      },
      "execution_count": 268,
      "outputs": []
    },
    {
      "cell_type": "code",
      "source": [
        "train_dataset = QAData(\n",
        "    data=train_df,\n",
        "    tokenizer=tokenizer)\n",
        "\n",
        "val_dataset = QAData(\n",
        "    data=val_df,\n",
        "    tokenizer=tokenizer)\n",
        "\n",
        "test_dataset = QAData(\n",
        "    data=test_df,\n",
        "    tokenizer=tokenizer)\n",
        "\n",
        "len(train_dataset), len(val_dataset), len(test_dataset)"
      ],
      "metadata": {
        "colab": {
          "base_uri": "https://localhost:8080/"
        },
        "id": "tf8vYVq5Bfcg",
        "outputId": "eb20edfb-b991-48d8-b3e6-7846b18ecc65"
      },
      "execution_count": 236,
      "outputs": [
        {
          "output_type": "execute_result",
          "data": {
            "text/plain": [
              "(6214, 777, 776)"
            ]
          },
          "metadata": {},
          "execution_count": 236
        }
      ]
    },
    {
      "cell_type": "code",
      "source": [
        "train_dataset[0][0].shape"
      ],
      "metadata": {
        "colab": {
          "base_uri": "https://localhost:8080/"
        },
        "id": "JStAuGZi5o_M",
        "outputId": "a92e75c6-a969-433c-82b1-742cceb20026"
      },
      "execution_count": 39,
      "outputs": [
        {
          "output_type": "execute_result",
          "data": {
            "text/plain": [
              "torch.Size([9])"
            ]
          },
          "metadata": {},
          "execution_count": 39
        }
      ]
    },
    {
      "cell_type": "markdown",
      "source": [
        "### DataLoader"
      ],
      "metadata": {
        "id": "FqvSU0z2ox01"
      }
    },
    {
      "cell_type": "code",
      "source": [
        "class Sampler():\n",
        "    def __init__(self, dataset, batch_size=64):\n",
        "        self.dataset = dataset\n",
        "        self.n_batches = len(dataset) // batch_size\n",
        "        self.batch_size = batch_size\n",
        "\n",
        "    def __iter__(self):\n",
        "        indices = [(i, len(s[0])) for i, s in enumerate(self.dataset)]\n",
        "        random.shuffle(indices)\n",
        "        pooled_indices = []\n",
        "        # create pool of indices with similar lengths \n",
        "        for i in range(0, len(indices), batch_size * 100):\n",
        "            pooled_indices.extend(\n",
        "                sorted(indices[i:i + batch_size * 100], key=lambda x: x[1])\n",
        "                )\n",
        "        pooled_indices = [x[0] for x in pooled_indices]\n",
        "        \n",
        "        # yield indices for current batch\n",
        "        for i in range(0, len(pooled_indices), batch_size):\n",
        "            yield pooled_indices[i:i + batch_size]"
      ],
      "metadata": {
        "id": "Y4qrXzUdGbTj"
      },
      "execution_count": 239,
      "outputs": []
    },
    {
      "cell_type": "code",
      "source": [
        "train_sampler = Sampler(train_dataset)\n",
        "val_sampler = Sampler(val_dataset)\n",
        "test_sampler = Sampler(test_dataset)\n",
        "\n",
        "train_loader = DataLoader(\n",
        "    train_dataset,\n",
        "    collate_fn=train_dataset.collate_batch,\n",
        "    batch_sampler=train_sampler)\n",
        "\n",
        "val_loader = DataLoader(\n",
        "    val_dataset,\n",
        "    collate_fn=val_dataset.collate_batch,\n",
        "    batch_sampler=val_sampler)\n",
        "\n",
        "test_loader = DataLoader(\n",
        "    test_dataset,\n",
        "    collate_fn=val_dataset.collate_batch,\n",
        "    batch_sampler=test_sampler)"
      ],
      "metadata": {
        "id": "Utbn7Jw7pIJx"
      },
      "execution_count": 240,
      "outputs": []
    },
    {
      "cell_type": "code",
      "source": [
        "for batch in train_loader:\n",
        "    break\n",
        "\n",
        "batch[0].shape, batch[1].shape"
      ],
      "metadata": {
        "colab": {
          "base_uri": "https://localhost:8080/"
        },
        "id": "e5B54W_Z5fPD",
        "outputId": "9d14fc9d-c674-4824-9b4f-a3964e943848"
      },
      "execution_count": 241,
      "outputs": [
        {
          "output_type": "execute_result",
          "data": {
            "text/plain": [
              "(torch.Size([5, 64]), torch.Size([29, 64]))"
            ]
          },
          "metadata": {},
          "execution_count": 241
        }
      ]
    },
    {
      "cell_type": "code",
      "source": [
        "train_sampler.n_batches,val_sampler.n_batches,test_sampler.n_batches"
      ],
      "metadata": {
        "colab": {
          "base_uri": "https://localhost:8080/"
        },
        "id": "0R-VTRcUTPXE",
        "outputId": "ee8b1b06-2670-4fb2-825c-b746068213e7"
      },
      "execution_count": 242,
      "outputs": [
        {
          "output_type": "execute_result",
          "data": {
            "text/plain": [
              "(97, 12, 12)"
            ]
          },
          "metadata": {},
          "execution_count": 242
        }
      ]
    },
    {
      "cell_type": "code",
      "source": [
        "progress_bar = tqdm(total=len(train_loader.dataset), desc='Testing')\n",
        "\n",
        "for x, y in train_loader:\n",
        "    progress_bar.update(x.size(1))\n",
        "    \n",
        "progress_bar.close()"
      ],
      "metadata": {
        "colab": {
          "base_uri": "https://localhost:8080/",
          "height": 49,
          "referenced_widgets": [
            "c1f5c901ccec41d195c9bc8a309406f2",
            "3b5fcd1ea9b04db6891711ea87ae8836",
            "13a4a0083d5a40cebf8035b0bd2607e3",
            "0986c83da7454c908232f6262fa49b26",
            "ad4f974a5294467eb49e7fd0cbbddbb6",
            "277c047643ad42408625c84b020430f5",
            "f7811ce5713a45a98818858193d8b9fb",
            "78ff3668dc0347ae90359887c6586189",
            "ff8200f92e20469096caa3db2f2a28ad",
            "5eec4d21aafe49bdaa8c2b0ae639085c",
            "2626c8a7f8414f168f74664cc5c7c89d"
          ]
        },
        "id": "CrFwFQzJSWo2",
        "outputId": "89ece616-137c-456c-d4d2-0f54e5359355"
      },
      "execution_count": 243,
      "outputs": [
        {
          "output_type": "display_data",
          "data": {
            "application/vnd.jupyter.widget-view+json": {
              "model_id": "c1f5c901ccec41d195c9bc8a309406f2",
              "version_minor": 0,
              "version_major": 2
            },
            "text/plain": [
              "Testing:   0%|          | 0/6214 [00:00<?, ?it/s]"
            ]
          },
          "metadata": {}
        }
      ]
    },
    {
      "cell_type": "code",
      "source": [
        "progress_bar = tqdm(total=len(val_loader.dataset), desc='Testing')\n",
        "\n",
        "for x, y in val_loader:\n",
        "    progress_bar.update(x.size(1))\n",
        "    \n",
        "progress_bar.close()"
      ],
      "metadata": {
        "colab": {
          "base_uri": "https://localhost:8080/",
          "height": 49,
          "referenced_widgets": [
            "be73291e7b30457b9cf61a925dad8c4d",
            "b0b59901caf5420b90e257fd6a7d8835",
            "563cb097908b4c60a6f43ff63625eb02",
            "92e30808f4924d0d816e1f2c1d56064b",
            "c973c04e1838409c8ed41cd9f65ff18e",
            "2ed7e33384054fc687ceeb7230e62385",
            "74cd4a1caa174f9ea99db3eb180f46d6",
            "86509ade06264cf0821981cadcf28c32",
            "129c136509d14aa6bc6819c10a99125c",
            "0feeb8cd2f7f45ac9bb0b916710dab33",
            "a3fb10ca64834776be0eafd30cce4140"
          ]
        },
        "id": "S8uIYCZTStGh",
        "outputId": "8ecfe1d0-e522-4be3-a9bf-93f0489454f3"
      },
      "execution_count": 244,
      "outputs": [
        {
          "output_type": "display_data",
          "data": {
            "application/vnd.jupyter.widget-view+json": {
              "model_id": "be73291e7b30457b9cf61a925dad8c4d",
              "version_minor": 0,
              "version_major": 2
            },
            "text/plain": [
              "Testing:   0%|          | 0/777 [00:00<?, ?it/s]"
            ]
          },
          "metadata": {}
        }
      ]
    },
    {
      "cell_type": "code",
      "source": [
        "progress_bar = tqdm(total=len(test_loader.dataset), desc='Testing')\n",
        "\n",
        "for x, y in test_loader:\n",
        "    progress_bar.update(x.size(1))\n",
        "    \n",
        "progress_bar.close()"
      ],
      "metadata": {
        "colab": {
          "base_uri": "https://localhost:8080/",
          "height": 49,
          "referenced_widgets": [
            "bccb931d95664c8faaf87366ff58dcbe",
            "349007e9adde463ba47dfc26397bbbc9",
            "5f906d685420488e9b8c91851fc04da5",
            "6815a5dffda949b7b55f2a2e55193440",
            "5cbca390870e41109f5a479ddeb500b5",
            "e15ce55e184b4d3e9250e983ee545c0f",
            "df6ff71f2b334526b8fe943916f9ee63",
            "2dd0126d63664a58a8e48ad4e326c048",
            "81bfa479e73740eb9b46a7e3eb62b570",
            "d52be53b6d7a47d3b9f6f3a79e1d32da",
            "46565d754e1a449ab1f7e4032df7a40b"
          ]
        },
        "id": "UlA4xGV_Sd_Q",
        "outputId": "940a27dd-ebce-40a0-9a9d-32bbe93372c1"
      },
      "execution_count": 245,
      "outputs": [
        {
          "output_type": "display_data",
          "data": {
            "application/vnd.jupyter.widget-view+json": {
              "model_id": "bccb931d95664c8faaf87366ff58dcbe",
              "version_minor": 0,
              "version_major": 2
            },
            "text/plain": [
              "Testing:   0%|          | 0/776 [00:00<?, ?it/s]"
            ]
          },
          "metadata": {}
        }
      ]
    },
    {
      "cell_type": "code",
      "source": [
        "batch[0].shape, batch[1].shape"
      ],
      "metadata": {
        "colab": {
          "base_uri": "https://localhost:8080/"
        },
        "id": "8HCZIWC2GJID",
        "outputId": "c61a95a7-129e-4883-b62f-b2ab9ced84d0"
      },
      "execution_count": 51,
      "outputs": [
        {
          "output_type": "execute_result",
          "data": {
            "text/plain": [
              "(torch.Size([5, 64]), torch.Size([29, 64]))"
            ]
          },
          "metadata": {},
          "execution_count": 51
        }
      ]
    },
    {
      "cell_type": "markdown",
      "source": [
        "## Model"
      ],
      "metadata": {
        "id": "AVEH6_9ufRwX"
      }
    },
    {
      "cell_type": "markdown",
      "source": [
        "### Encoder/Decoder"
      ],
      "metadata": {
        "id": "-EUEDXrEDxls"
      }
    },
    {
      "cell_type": "code",
      "source": [
        "EmbeddingLayer = nn.Embedding(num_embeddings=vocab_size, \n",
        "                              embedding_dim=512,\n",
        "                              padding_idx=pad_index)\n",
        "\n",
        "EmbeddingLayer.num_embeddings, EmbeddingLayer.embedding_dim"
      ],
      "metadata": {
        "colab": {
          "base_uri": "https://localhost:8080/"
        },
        "id": "Nblt-ojA7lQU",
        "outputId": "f692bbe5-75f1-4612-cb44-6460adfe4da3"
      },
      "execution_count": 96,
      "outputs": [
        {
          "output_type": "execute_result",
          "data": {
            "text/plain": [
              "(30000, 512)"
            ]
          },
          "metadata": {},
          "execution_count": 96
        }
      ]
    },
    {
      "cell_type": "code",
      "source": [
        "\"\"\"\n",
        "Based on \n",
        "https://pytorch.org/tutorials/beginner/chatbot_tutorial.html\n",
        "\"\"\"\n",
        "\n",
        "class Encoder(nn.Module):\n",
        "    def __init__(self, embedding, hidden_size=128, n_layers=1, dropout=0.1):\n",
        "        super().__init__()\n",
        "        self.embedding = embedding\n",
        "        self.hidden_size = hidden_size\n",
        "        self.n_layers = n_layers\n",
        "        self.rnn = nn.GRU(\n",
        "            embedding.embedding_dim, hidden_size, n_layers,\n",
        "            dropout=(0 if n_layers == 1 else dropout), bidirectional=True)\n",
        "        \n",
        "    def forward(self, input, hidden=None):\n",
        "        embedded = self.embedding(input)\n",
        "        out, hidden = self.rnn(embedded, hidden)\n",
        "        # concat forward and backward gru layers\n",
        "        outputs = out[:,:,:self.hidden_size] + out[:,:,self.hidden_size:]\n",
        "        return outputs, hidden\n",
        "\n",
        "\n",
        "class Attention(nn.Module):\n",
        "    def __init__(self, hidden_size):\n",
        "        super(Attention, self).__init__()\n",
        "        self.hidden_size = hidden_size\n",
        "\n",
        "    def score(self, hidden, encoder_outputs):\n",
        "        return torch.sum(hidden * encoder_outputs, dim=2)\n",
        "\n",
        "    def forward(self, hidden, encoder_outputs):\n",
        "        attn_energies = self.score(hidden, encoder_outputs)\n",
        "        attn_energies = attn_energies.t()\n",
        "        return F.softmax(attn_energies, dim=1).unsqueeze(1)\n",
        "\n",
        "\n",
        "class Decoder(nn.Module):\n",
        "    def __init__(self, embedding, hidden_size, n_layers=1, dropout=0.1):\n",
        "        super(Decoder, self).__init__()\n",
        "        # Keep for reference\n",
        "        self.hidden_size = hidden_size\n",
        "        self.output_size = embedding.num_embeddings\n",
        "        self.n_layers = n_layers\n",
        "        self.dropout = dropout\n",
        "\n",
        "        self.embedding = embedding\n",
        "        self.embedding_dropout = nn.Dropout(dropout)\n",
        "        # forward-looking rnn\n",
        "        self.gru = nn.GRU(\n",
        "            embedding.embedding_dim, hidden_size, n_layers, \n",
        "            dropout=(0 if n_layers == 1 else dropout))\n",
        "        self.concat = nn.Linear(hidden_size * 2, hidden_size)\n",
        "        self.out = nn.Linear(hidden_size, self.output_size)\n",
        "        self.attn = Attention(hidden_size)\n",
        "\n",
        "    def forward(self, input_step, last_hidden, encoder_outputs):\n",
        "        \"\"\" processes each element of a sequence separately \"\"\"\n",
        "        embedded = self.embedding(input_step)\n",
        "        embedded = self.embedding_dropout(embedded)\n",
        "        rnn_output, hidden = self.gru(embedded, last_hidden)\n",
        "        attn_weights = self.attn(rnn_output, encoder_outputs)\n",
        "        # Multiply attention weights to encoder outputs\n",
        "        # to get new \"weighted sum\" context vector\n",
        "        context = attn_weights.bmm(encoder_outputs.transpose(0, 1))\n",
        "        # Concatenate weighted context vector and GRU output using Luong eq. 5\n",
        "        rnn_output = rnn_output.squeeze(0)\n",
        "        context = context.squeeze(1)\n",
        "        concat_input = torch.cat((rnn_output, context), 1)\n",
        "        concat_output = torch.tanh(self.concat(concat_input))\n",
        "        # Predict next word using Luong eq. 6\n",
        "\n",
        "        output = self.out(concat_output)\n",
        "        output = F.softmax(output, dim=1)\n",
        "        # Return output and final hidden state\n",
        "        return output, hidden"
      ],
      "metadata": {
        "id": "vLqJOAevfTLq"
      },
      "execution_count": 180,
      "outputs": []
    },
    {
      "cell_type": "code",
      "source": [
        "encoder = Encoder(EmbeddingLayer, 128, 1, 0)\n",
        "attn = Attention(128)\n",
        "decoder = Decoder(EmbeddingLayer, hidden_size = 128)"
      ],
      "metadata": {
        "id": "8YkXrdezFSXD"
      },
      "execution_count": 181,
      "outputs": []
    },
    {
      "cell_type": "code",
      "source": [
        "output, hidden = encoder.forward(input=batch[0])\n",
        "att_energy = attn.forward(hidden[:1], output)\n",
        "dec_output, dec_hidden = decoder.forward(\n",
        "    batch[0][1].view(1, -1), hidden[:1], output)"
      ],
      "metadata": {
        "id": "biCY4LHPGFd6"
      },
      "execution_count": 182,
      "outputs": []
    },
    {
      "cell_type": "code",
      "source": [
        "output.shape, hidden[:1].shape, att_energy.shape, dec_output.shape"
      ],
      "metadata": {
        "colab": {
          "base_uri": "https://localhost:8080/"
        },
        "id": "tR1RvmP-SsZm",
        "outputId": "8caf5257-11ae-431e-c14d-5e08a36e476b"
      },
      "execution_count": 183,
      "outputs": [
        {
          "output_type": "execute_result",
          "data": {
            "text/plain": [
              "(torch.Size([5, 64, 128]),\n",
              " torch.Size([1, 64, 128]),\n",
              " torch.Size([64, 1, 5]),\n",
              " torch.Size([64, 30000]))"
            ]
          },
          "metadata": {},
          "execution_count": 183
        }
      ]
    },
    {
      "cell_type": "code",
      "source": [
        "\"\"\"\n",
        "Based on this tutorials\n",
        "https://github.com/bentrevett/pytorch-seq2seq\n",
        "\"\"\"\n",
        "class QAmodel(nn.Module):\n",
        "    def __init__(self, encoder, decoder, device):\n",
        "        super().__init__()\n",
        "        self.encoder = encoder\n",
        "        self.decoder = decoder\n",
        "        self.device = device\n",
        "        \n",
        "    def forward(self, questions, responses, teacher_forcing_ratio = 0.5):\n",
        "        \"\"\"\n",
        "        aligns encoder' and decoder' inputs and outputs in a single model\n",
        "        \"\"\"\n",
        "        batch_size = questions.shape[1]\n",
        "        trg_len = responses.shape[0]\n",
        "        trg_vocab_size = self.decoder.output_size\n",
        "        \n",
        "        #tensor to store decoder outputs\n",
        "        outputs = torch.zeros(\n",
        "            (trg_len, batch_size, trg_vocab_size), device=self.device)\n",
        "        \n",
        "        encoder_outputs, encoder_hidden = self.encoder(questions)\n",
        "        # Set initial decoder hidden state to the encoder's final hidden state\n",
        "        decoder_hidden = encoder_hidden[:self.decoder.n_layers]\n",
        "\n",
        "        #first input to the decoder is always <bos>\n",
        "        input = responses[0,None]\n",
        "\n",
        "        for step in range(1, trg_len):\n",
        "            #insert input token embedding, \n",
        "            # previous hidden state and all encoder hidden states\n",
        "            #receive output tensor (predictions) and new hidden state\n",
        "            output, decoder_hidden = self.decoder(\n",
        "                input, decoder_hidden, encoder_outputs)\n",
        "            #place predictions in a tensor holding predictions for each token\n",
        "            outputs[step] = output\n",
        "            #decide if we are going to use teacher forcing or not\n",
        "            teacher_force = random.random() < teacher_forcing_ratio\n",
        "            #get the highest predicted token from predictions\n",
        "            top1 = output.argmax(1).unsqueeze(0)\n",
        "            #if teacher forcing, use actual next token as next input\n",
        "            #if not, use predicted token\n",
        "            input = responses[step,None] if teacher_force else top1\n",
        "\n",
        "        return outputs\n",
        "\n",
        "N_LAYERS = 2\n",
        "DROPOUT_VALUE = 0.1\n",
        "\n",
        "embedding_layer = nn.Embedding(\n",
        "    num_embeddings=vocab_size, embedding_dim=512, padding_idx=pad_index)\n",
        "encoder = Encoder(embedding_layer, 512, N_LAYERS, DROPOUT_VALUE)\n",
        "decoder = Decoder(embedding_layer, 512, N_LAYERS, DROPOUT_VALUE)"
      ],
      "metadata": {
        "id": "iMfk6_8pUMGG"
      },
      "execution_count": 300,
      "outputs": []
    },
    {
      "cell_type": "code",
      "source": [
        "model = QAmodel(encoder, decoder, 'cpu')\n",
        "\n",
        "with torch.no_grad():\n",
        "    pred = model.forward(batch[0], batch[1])\n",
        "\n",
        "batch[0].shape, batch[1].shape, pred.shape"
      ],
      "metadata": {
        "colab": {
          "base_uri": "https://localhost:8080/"
        },
        "id": "aqm5cMaAFJ40",
        "outputId": "6eeadfe5-22ca-4fae-d1c3-6252d9577f10"
      },
      "execution_count": 301,
      "outputs": [
        {
          "output_type": "execute_result",
          "data": {
            "text/plain": [
              "(torch.Size([5, 64]), torch.Size([29, 64]), torch.Size([29, 64, 30000]))"
            ]
          },
          "metadata": {},
          "execution_count": 301
        }
      ]
    },
    {
      "cell_type": "code",
      "source": [
        "pred.permute(1,2,0).shape, batch[1].T.shape"
      ],
      "metadata": {
        "colab": {
          "base_uri": "https://localhost:8080/"
        },
        "id": "BTMYG9WvaRC8",
        "outputId": "fabb04a0-a932-4986-de24-5626a31a7738"
      },
      "execution_count": 302,
      "outputs": [
        {
          "output_type": "execute_result",
          "data": {
            "text/plain": [
              "(torch.Size([64, 30000, 29]), torch.Size([64, 29]))"
            ]
          },
          "metadata": {},
          "execution_count": 302
        }
      ]
    },
    {
      "cell_type": "code",
      "source": [
        "model = QAmodel(encoder, decoder, device)\n",
        "model.to(device)\n",
        "optimizer = torch.optim.Adam(model.parameters())\n",
        "criterion = nn.CrossEntropyLoss(ignore_index = pad_index)"
      ],
      "metadata": {
        "colab": {
          "base_uri": "https://localhost:8080/"
        },
        "id": "LnWozIQpEWiJ",
        "outputId": "3111ce4c-428f-439c-e47d-0b8cd15767c6"
      },
      "execution_count": 303,
      "outputs": [
        {
          "output_type": "execute_result",
          "data": {
            "text/plain": [
              "QAmodel(\n",
              "  (encoder): Encoder(\n",
              "    (embedding): Embedding(30000, 512, padding_idx=0)\n",
              "    (rnn): GRU(512, 512, num_layers=2, dropout=0.1, bidirectional=True)\n",
              "  )\n",
              "  (decoder): Decoder(\n",
              "    (embedding): Embedding(30000, 512, padding_idx=0)\n",
              "    (embedding_dropout): Dropout(p=0.1, inplace=False)\n",
              "    (gru): GRU(512, 512, num_layers=2, dropout=0.1)\n",
              "    (concat): Linear(in_features=1024, out_features=512, bias=True)\n",
              "    (out): Linear(in_features=512, out_features=30000, bias=True)\n",
              "    (attn): Attention()\n",
              "  )\n",
              ")"
            ]
          },
          "metadata": {},
          "execution_count": 303
        }
      ]
    },
    {
      "cell_type": "code",
      "source": [
        "def count_parameters(model):\n",
        "    return sum(p.numel() for p in model.parameters() if p.requires_grad)\n",
        "\n",
        "print(f'Количество обучаемых параметров в сети: {count_parameters(model):,}')"
      ],
      "metadata": {
        "colab": {
          "base_uri": "https://localhost:8080/"
        },
        "id": "p6vTY6ftEkNf",
        "outputId": "4206bd8f-a607-44ef-a8ac-c3fc2628bc78"
      },
      "execution_count": 267,
      "outputs": [
        {
          "output_type": "stream",
          "name": "stdout",
          "text": [
            "Количество обучаемых параметров в сети: 42,303,280\n"
          ]
        }
      ]
    },
    {
      "cell_type": "markdown",
      "source": [
        "## Train"
      ],
      "metadata": {
        "id": "vE6W-tsiSl9j"
      }
    },
    {
      "cell_type": "code",
      "source": [
        ""
      ],
      "metadata": {
        "id": "S0yvuC2wTFwW"
      },
      "execution_count": 304,
      "outputs": []
    },
    {
      "cell_type": "code",
      "source": [
        "torch.zeros([0, 64], device=device, dtype=torch.long)"
      ],
      "metadata": {
        "colab": {
          "base_uri": "https://localhost:8080/"
        },
        "id": "uboi5VNVqUqN",
        "outputId": "cc61d4f9-bded-424a-8d49-0697a0010205"
      },
      "execution_count": 329,
      "outputs": [
        {
          "output_type": "execute_result",
          "data": {
            "text/plain": [
              "tensor([], device='cuda:0', size=(0, 64), dtype=torch.int64)"
            ]
          },
          "metadata": {},
          "execution_count": 329
        }
      ]
    },
    {
      "cell_type": "code",
      "source": [
        "def train(model, dataloader, loss_fn, optimizer, n_batches, \n",
        "          clip=3., last_n_losses=500, verbose=True):\n",
        "\n",
        "    losses = []\n",
        "    progress_bar = tqdm(total=n_batches, disable=not verbose, desc='Train')\n",
        "    model.train()\n",
        "\n",
        "    for x, y in dataloader:\n",
        "\n",
        "        # Zero gradients\n",
        "        optimizer.zero_grad()\n",
        "\n",
        "        x = x.to(device)\n",
        "        y = y.to(device)\n",
        "\n",
        "        pred = model(x, y)\n",
        "        # print(pred.transpose(1,0).shape, y.T.shape)\n",
        "        loss = loss_fn(pred.permute(1,2,0), y.T)\n",
        "        # Perform backpropatation\n",
        "        loss.backward()\n",
        "        # Clip gradients: gradients are modified in place\n",
        "        _ = nn.utils.clip_grad_norm_(model.parameters(), clip)\n",
        "\n",
        "        optimizer.step()\n",
        "\n",
        "        losses.append(loss.item())\n",
        "\n",
        "        progress_bar.set_postfix(\n",
        "            loss=np.mean(losses[-last_n_losses:]),\n",
        "            perplexity=np.exp(np.mean(losses[-last_n_losses:])))\n",
        "\n",
        "        progress_bar.update()\n",
        "\n",
        "    progress_bar.close()\n",
        "    \n",
        "    return losses\n",
        "\n",
        "class GreedySearchDecoder(nn.Module):\n",
        "    \"\"\"\n",
        "    Greedy decoding is used when teacher_forcing=False.\n",
        "    \"\"\"\n",
        "    \n",
        "    def __init__(self, model, device):\n",
        "        super(GreedySearchDecoder, self).__init__()\n",
        "        self.model = model\n",
        "        self.device = device\n",
        "\n",
        "    def forward(self, input_seq, max_length):\n",
        "        # Forward input through encoder model\n",
        "        encoder_outputs, encoder_hidden = self.model.encoder(\n",
        "            input_seq)\n",
        "        # Encoder's final hidden layer -> 1st hidden input to the decoder\n",
        "        decoder_hidden = encoder_hidden[:self.model.decoder.n_layers]\n",
        "        decoder_input = torch.zeros(\n",
        "            (1, input_seq.shape[1]), device=self.model.device, dtype=torch.long)\n",
        "        # Initialize tensors to append decoded words to\n",
        "        all_tokens = torch.zeros(\n",
        "            [0], device=self.model.device, dtype=torch.long)\n",
        "        all_scores = torch.zeros(\n",
        "            [0], device=self.model.device, dtype=torch.long)\n",
        "        \n",
        "        print(all_tokens.shape, all_scores.shape)\n",
        "        \n",
        "        # Iteratively decode one word token at a time\n",
        "        for _ in range(max_length):\n",
        "            # Forward pass through decoder\n",
        "            decoder_output, decoder_hidden = self.model.decoder(\n",
        "                decoder_input, decoder_hidden, encoder_outputs)\n",
        "            # Obtain most likely word token and its softmax score\n",
        "            decoder_scores, decoder_input = torch.max(decoder_output, dim=1)\n",
        "            print(decoder_scores.shape, decoder_input.shape)\n",
        "            # Record token and score\n",
        "            all_tokens = torch.cat((all_tokens, decoder_input), dim=0)\n",
        "            all_scores = torch.cat((all_scores, decoder_scores), dim=0)\n",
        "            # Prepare current token to be next decoder input (add a dimension)\n",
        "            decoder_input = torch.unsqueeze(decoder_input, 0)\n",
        "\n",
        "        # Return collections of word tokens and scores\n",
        "        return all_tokens, all_scores\n",
        "\n",
        "def evaluate(searcher, tokenizer, input_batch, max_length=20):\n",
        "    input_batch = input_batch.to(device)\n",
        "    # Decode sentence with a greedy searcher\n",
        "    tokens, scores = searcher(input_batch, max_length)\n",
        "    print(tokens)\n",
        "    # indexes -> words\n",
        "    decoded_words = tokenizer.decode(tokens.tolist(), ignore_ids=[0,1,2,3])\n",
        "    return decoded_words\n",
        "\n",
        "\n",
        "# def evaluateInput(encoder, decoder, searcher, voc):\n",
        "#     input_sentence = ''\n",
        "#     while(1):\n",
        "#         try:\n",
        "#             # Get input sentence\n",
        "#             input_sentence = input('> ')\n",
        "#             # Check if it is quit case\n",
        "#             if input_sentence == 'q' or input_sentence == 'quit': break\n",
        "#             # Normalize sentence\n",
        "#             input_sentence = normalizeString(input_sentence)\n",
        "#             # Evaluate sentence\n",
        "#             output_words = evaluate(encoder, decoder, searcher, voc, input_sentence)\n",
        "#             # Format and print response sentence\n",
        "#             output_words[:] = [x for x in output_words if not (x == 'EOS' or x == 'PAD')]\n",
        "#             print('Bot:', ' '.join(output_words))\n",
        "\n",
        "#         except KeyError:\n",
        "#             print(\"Error: Encountered unknown word.\")"
      ],
      "metadata": {
        "id": "Hu9hfCBMRb75"
      },
      "execution_count": 330,
      "outputs": []
    },
    {
      "cell_type": "code",
      "source": [
        "epochs = 3\n",
        "\n",
        "train_losses = []\n",
        "validation_losses = []\n",
        "\n",
        "train_perplexities = []\n",
        "validation_perplexities = []\n",
        "\n",
        "best_validation_loss = 1e+6\n",
        "\n",
        "for n_epoch in range(1, epochs + 1):\n",
        "    \n",
        "    epoch_train_losses = train(\n",
        "        model, train_loader, criterion, optimizer, train_sampler.n_batches)\n",
        "    \n",
        "    print(len(epoch_train_losses))\n",
        "    \n",
        "    # epoch_validation_losses = evaluate(\n",
        "    #     model, val_loader, criterion, val_sampler.n_batches)\n",
        "    \n",
        "    mean_train_loss = np.mean(epoch_train_losses)\n",
        "    # mean_validation_loss = np.mean(epoch_validation_losses)\n",
        "    \n",
        "    train_losses.append(epoch_train_losses)\n",
        "    train_perplexities.append(np.exp(mean_train_loss))\n",
        "    \n",
        "    # validation_losses.append(epoch_validation_losses)\n",
        "    # validation_perplexities.append(np.exp(mean_validation_loss))\n",
        "    \n",
        "    message = f'Epoch: {n_epoch}\\n'\n",
        "    message += f'Train: loss - {mean_train_loss:.4f} | perplexity - {train_perplexities[-1]:.3f}\\n'\n",
        "    # message += f'Validation: loss - {mean_validation_loss:.4f} | perplexity - {validation_perplexities[-1]:.3f}'\n",
        "    \n",
        "    print(message)\n",
        "    \n",
        "    # if mean_validation_loss < best_validation_loss:\n",
        "        \n",
        "    #     best_validation_loss = mean_validation_loss\n",
        "        \n",
        "    #     torch.save(model.state_dict(), f'model/best_language_model_state_dict.pth')\n",
        "    #     torch.save(optimizer.state_dict(), 'model/best_optimizer_state_dict.pth')\n",
        "        \n",
        "    # else:\n",
        "    #     break\n",
        "        \n",
        "    torch.save(model.state_dict(), f'model/last_language_model_state_dict.pth')\n",
        "    torch.save(optimizer.state_dict(), 'model/last_optimizer_state_dict.pth')\n",
        "\n",
        "    with open(f'model/info_{n_epoch}.json', 'w') as file_object:\n",
        "\n",
        "        info = {\n",
        "            'message': message,\n",
        "            'train_losses': train_losses,\n",
        "            # 'validation_losses': validation_losses,\n",
        "            'train_perplexities': train_perplexities,\n",
        "            # 'validation_perplexities': validation_perplexities\n",
        "        }\n",
        "\n",
        "        file_object.write(json.dumps(info, indent=2))"
      ],
      "metadata": {
        "colab": {
          "base_uri": "https://localhost:8080/",
          "height": 322,
          "referenced_widgets": [
            "817f18f4ef4a4a9294f146f9b7aa335d",
            "f6a21275bd234270ad05920766b63e6d",
            "d445719b64db49afa28462b888bfca5e",
            "719e30137b704c76bf607a16f07f80b5",
            "15f3b89cedb342e0a1ae5fc047eb1198",
            "a5f807939d654966b22a2db8562b2b61",
            "0d8cc45fc83546ea8b33fc49d14745dc",
            "96b9325b6f614d5782a3491e28d3ef1a",
            "ef66900b6c0749edb28276363d8f4841",
            "42445e2d39754ac6b293ea92d91475f7",
            "b4f83b5ee46544ea8d4c3828cca0711d",
            "d0fc59984091408884e8f67cffd32b52",
            "185d837e61ff4e31bfd3c060539288f3",
            "52b19c429b51424ba07b65073cffc885",
            "7f7198e2ca7b43638fa04aea6a964013",
            "92a303384c234d13b7da3f0b3f24dbe9",
            "741bd4ee4e8446af9454a3499067447a",
            "bada8877174f4c4f8bcd153a95180d58",
            "74aad3a4f506485a80ee543293603a64",
            "9694878f5db14d39b4a784034ccdb709",
            "855a5bd769844bd983ef88cfabc415ea",
            "093cba3fc3e44e24aa4b0e7664216abf",
            "2b9a84b36e8544fc92706130b787e09d",
            "e87b80b19dd84d6e86da5343af5efc53",
            "5d37fb2318af4d50b1df684fca495b08",
            "5f94940be40e4d968aaf9a7fd2584859",
            "52ee7c4320e945e6aacac42de3c4b52e",
            "8147eaffb062479a94e7a71385ba237c",
            "cd43c6ec627240e78428b5b9dc1ffa04",
            "2cd79c3f052f4476b38219c5ce5bea0d",
            "005497e2bc6e48b7b62ecd30013b6004",
            "0a8d37e1fc7b4173a464c52e4dfd3714",
            "0c69ab67452a4a68a6ab19f7a6e4d8e6"
          ]
        },
        "id": "PcwNGNgQVlUZ",
        "outputId": "8b4b0dc0-4fd6-4352-afc5-6ea6af18164d"
      },
      "execution_count": 306,
      "outputs": [
        {
          "output_type": "display_data",
          "data": {
            "application/vnd.jupyter.widget-view+json": {
              "model_id": "817f18f4ef4a4a9294f146f9b7aa335d",
              "version_minor": 0,
              "version_major": 2
            },
            "text/plain": [
              "Train:   0%|          | 0/97 [00:00<?, ?it/s]"
            ]
          },
          "metadata": {}
        },
        {
          "output_type": "stream",
          "name": "stdout",
          "text": [
            "98\n",
            "Epoch: 1\n",
            "Train: loss - 10.2432 | perplexity - 28091.700\n",
            "\n"
          ]
        },
        {
          "output_type": "display_data",
          "data": {
            "application/vnd.jupyter.widget-view+json": {
              "model_id": "d0fc59984091408884e8f67cffd32b52",
              "version_minor": 0,
              "version_major": 2
            },
            "text/plain": [
              "Train:   0%|          | 0/97 [00:00<?, ?it/s]"
            ]
          },
          "metadata": {}
        },
        {
          "output_type": "stream",
          "name": "stdout",
          "text": [
            "98\n",
            "Epoch: 2\n",
            "Train: loss - 10.2393 | perplexity - 27980.535\n",
            "\n"
          ]
        },
        {
          "output_type": "display_data",
          "data": {
            "application/vnd.jupyter.widget-view+json": {
              "model_id": "2b9a84b36e8544fc92706130b787e09d",
              "version_minor": 0,
              "version_major": 2
            },
            "text/plain": [
              "Train:   0%|          | 0/97 [00:00<?, ?it/s]"
            ]
          },
          "metadata": {}
        },
        {
          "output_type": "stream",
          "name": "stdout",
          "text": [
            "98\n",
            "Epoch: 3\n",
            "Train: loss - 10.2393 | perplexity - 27981.866\n",
            "\n"
          ]
        }
      ]
    },
    {
      "cell_type": "code",
      "source": [
        "for x, y in test_loader:\n",
        "    break\n",
        "\n",
        "x.shape, y.shape"
      ],
      "metadata": {
        "colab": {
          "base_uri": "https://localhost:8080/"
        },
        "id": "KbVytEAOhCLq",
        "outputId": "8ac5a59f-00ef-4775-a80b-c19e60f7edbc"
      },
      "execution_count": 287,
      "outputs": [
        {
          "output_type": "execute_result",
          "data": {
            "text/plain": [
              "(torch.Size([7, 64]), torch.Size([34, 64]))"
            ]
          },
          "metadata": {},
          "execution_count": 287
        }
      ]
    },
    {
      "cell_type": "code",
      "source": [
        "model.eval()\n",
        "\n",
        "g_searcher = GreedySearchDecoder(model, device)\n",
        "evaluate(g_searcher, tokenizer, x, max_length=20)"
      ],
      "metadata": {
        "id": "3hSZ3zsdh0v9"
      },
      "execution_count": null,
      "outputs": []
    },
    {
      "cell_type": "code",
      "source": [
        "def generate(x, y, bos_index=2, eos_index=3, max_sequence=512):\n",
        "    \n",
        "    model.eval()\n",
        "    # мы используем какой-нибудь seed text для того, по нему предсказать продолжение\n",
        "    with torch.no_grad():\n",
        "\n",
        "        # получим представления модели от нашего сид текста\n",
        "        x = x.to(device)\n",
        "        y = y.to(device)\n",
        "        \n",
        "        preds = model(x, y)\n",
        "        preds = nn.Softmax(dim=-1)(preds).argmax(-1).cpu().numpy()\n",
        "        \n",
        "        questions = tokenizer.decode(x.detach().tolist(), ignore_ids=[0,1,2,3])\n",
        "        responses = tokenizer.decode(preds.tolist(), ignore_ids=[0,1,2,3])\n",
        "\n",
        "        return questions, responses\n",
        "\n",
        "qs, rs = generate(x, y)\n",
        "\n",
        "for q, r in zip(qs, rs):\n",
        "    print(q, \" - \", r , '\\n')"
      ],
      "metadata": {
        "id": "kYYDP9tFWDuZ"
      },
      "execution_count": null,
      "outputs": []
    },
    {
      "cell_type": "code",
      "source": [
        "plt.figure(figsize=(14, 14))\n",
        "plt.xlabel('batch')\n",
        "plt.ylabel('loss')\n",
        "plt.title('Training')\n",
        "\n",
        "for i in range(len(train_losses)):\n",
        "    label = f'epoch_{i+1}'\n",
        "    plt.plot(train_losses[i], label=label)\n",
        "    \n",
        "\n",
        "plt.legend()\n",
        "plt.grid()"
      ],
      "metadata": {
        "id": "drzOFWiQZovy"
      },
      "execution_count": null,
      "outputs": []
    },
    {
      "cell_type": "code",
      "source": [
        "plt.figure(figsize=(14, 14))\n",
        "plt.xlabel('batch')\n",
        "plt.ylabel('loss')\n",
        "plt.title('Validation')\n",
        "\n",
        "for i in range(len(validation_losses)):\n",
        "    label = f'epoch_{i+1}'\n",
        "    plt.plot(validation_losses[i], label=label)\n",
        "\n",
        "plt.legend()\n",
        "plt.grid()"
      ],
      "metadata": {
        "id": "_O0fSP2EeaNy"
      },
      "execution_count": null,
      "outputs": []
    },
    {
      "cell_type": "code",
      "source": [
        ""
      ],
      "metadata": {
        "id": "JEsIu3Xvris9"
      },
      "execution_count": null,
      "outputs": []
    }
  ]
}